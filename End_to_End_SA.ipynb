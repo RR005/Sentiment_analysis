{
 "cells": [
  {
   "cell_type": "markdown",
   "metadata": {},
   "source": [
    "![title](img/reaction.jpg)"
   ]
  },
  {
   "cell_type": "code",
   "execution_count": 1,
   "metadata": {},
   "outputs": [],
   "source": [
    "import numpy as np # for arithmetic/ logical operations\n",
    "import matplotlib.pyplot as plt # for plotting graphs \n",
    "import pandas as pd # for loading and manipulating the data"
   ]
  },
  {
   "cell_type": "markdown",
   "metadata": {},
   "source": [
    "#    Loading the csv file"
   ]
  },
  {
   "cell_type": "code",
   "execution_count": 2,
   "metadata": {},
   "outputs": [
    {
     "data": {
      "text/html": [
       "<div>\n",
       "<style scoped>\n",
       "    .dataframe tbody tr th:only-of-type {\n",
       "        vertical-align: middle;\n",
       "    }\n",
       "\n",
       "    .dataframe tbody tr th {\n",
       "        vertical-align: top;\n",
       "    }\n",
       "\n",
       "    .dataframe thead th {\n",
       "        text-align: right;\n",
       "    }\n",
       "</style>\n",
       "<table border=\"1\" class=\"dataframe\">\n",
       "  <thead>\n",
       "    <tr style=\"text-align: right;\">\n",
       "      <th></th>\n",
       "      <th>id</th>\n",
       "      <th>percentage</th>\n",
       "      <th>review</th>\n",
       "    </tr>\n",
       "  </thead>\n",
       "  <tbody>\n",
       "    <tr>\n",
       "      <th>0</th>\n",
       "      <td>1</td>\n",
       "      <td>9</td>\n",
       "      <td>I am disappointed with this app I thought that...</td>\n",
       "    </tr>\n",
       "    <tr>\n",
       "      <th>1</th>\n",
       "      <td>2</td>\n",
       "      <td>7</td>\n",
       "      <td>This game is only trying to make money So stup...</td>\n",
       "    </tr>\n",
       "    <tr>\n",
       "      <th>2</th>\n",
       "      <td>3</td>\n",
       "      <td>91</td>\n",
       "      <td>Really fun app I love it its very fun you shou...</td>\n",
       "    </tr>\n",
       "    <tr>\n",
       "      <th>3</th>\n",
       "      <td>4</td>\n",
       "      <td>99</td>\n",
       "      <td>User friendly. Good mix of games play daily.  ...</td>\n",
       "    </tr>\n",
       "    <tr>\n",
       "      <th>4</th>\n",
       "      <td>5</td>\n",
       "      <td>50</td>\n",
       "      <td>Soopa fast Great app but it allways has my tea...</td>\n",
       "    </tr>\n",
       "  </tbody>\n",
       "</table>\n",
       "</div>"
      ],
      "text/plain": [
       "   id  percentage                                             review\n",
       "0   1           9  I am disappointed with this app I thought that...\n",
       "1   2           7  This game is only trying to make money So stup...\n",
       "2   3          91  Really fun app I love it its very fun you shou...\n",
       "3   4          99  User friendly. Good mix of games play daily.  ...\n",
       "4   5          50  Soopa fast Great app but it allways has my tea..."
      ]
     },
     "execution_count": 2,
     "metadata": {},
     "output_type": "execute_result"
    }
   ],
   "source": [
    "dataset = pd.read_csv('datasets/App_Reviews_50.csv')\n",
    "dataset.head()"
   ]
  },
  {
   "cell_type": "code",
   "execution_count": 3,
   "metadata": {},
   "outputs": [
    {
     "data": {
      "text/html": [
       "<div>\n",
       "<style scoped>\n",
       "    .dataframe tbody tr th:only-of-type {\n",
       "        vertical-align: middle;\n",
       "    }\n",
       "\n",
       "    .dataframe tbody tr th {\n",
       "        vertical-align: top;\n",
       "    }\n",
       "\n",
       "    .dataframe thead th {\n",
       "        text-align: right;\n",
       "    }\n",
       "</style>\n",
       "<table border=\"1\" class=\"dataframe\">\n",
       "  <thead>\n",
       "    <tr style=\"text-align: right;\">\n",
       "      <th></th>\n",
       "      <th>id</th>\n",
       "      <th>percentage</th>\n",
       "      <th>review</th>\n",
       "      <th>Sentiment</th>\n",
       "    </tr>\n",
       "  </thead>\n",
       "  <tbody>\n",
       "    <tr>\n",
       "      <th>0</th>\n",
       "      <td>1</td>\n",
       "      <td>9</td>\n",
       "      <td>I am disappointed with this app I thought that...</td>\n",
       "      <td>default value</td>\n",
       "    </tr>\n",
       "    <tr>\n",
       "      <th>1</th>\n",
       "      <td>2</td>\n",
       "      <td>7</td>\n",
       "      <td>This game is only trying to make money So stup...</td>\n",
       "      <td>default value</td>\n",
       "    </tr>\n",
       "    <tr>\n",
       "      <th>2</th>\n",
       "      <td>3</td>\n",
       "      <td>91</td>\n",
       "      <td>Really fun app I love it its very fun you shou...</td>\n",
       "      <td>default value</td>\n",
       "    </tr>\n",
       "    <tr>\n",
       "      <th>3</th>\n",
       "      <td>4</td>\n",
       "      <td>99</td>\n",
       "      <td>User friendly. Good mix of games play daily.  ...</td>\n",
       "      <td>default value</td>\n",
       "    </tr>\n",
       "    <tr>\n",
       "      <th>4</th>\n",
       "      <td>5</td>\n",
       "      <td>50</td>\n",
       "      <td>Soopa fast Great app but it allways has my tea...</td>\n",
       "      <td>default value</td>\n",
       "    </tr>\n",
       "  </tbody>\n",
       "</table>\n",
       "</div>"
      ],
      "text/plain": [
       "   id  percentage                                             review  \\\n",
       "0   1           9  I am disappointed with this app I thought that...   \n",
       "1   2           7  This game is only trying to make money So stup...   \n",
       "2   3          91  Really fun app I love it its very fun you shou...   \n",
       "3   4          99  User friendly. Good mix of games play daily.  ...   \n",
       "4   5          50  Soopa fast Great app but it allways has my tea...   \n",
       "\n",
       "       Sentiment  \n",
       "0  default value  \n",
       "1  default value  \n",
       "2  default value  \n",
       "3  default value  \n",
       "4  default value  "
      ]
     },
     "execution_count": 3,
     "metadata": {},
     "output_type": "execute_result"
    }
   ],
   "source": [
    "# initializing the sentiment column by default value\n",
    "dataset[\"Sentiment\"] = \"default value\"\n",
    "dataset.head()"
   ]
  },
  {
   "cell_type": "code",
   "execution_count": 4,
   "metadata": {},
   "outputs": [
    {
     "name": "stderr",
     "output_type": "stream",
     "text": [
      "/usr/local/lib/python3.5/dist-packages/ipykernel_launcher.py:3: SettingWithCopyWarning: \n",
      "A value is trying to be set on a copy of a slice from a DataFrame\n",
      "\n",
      "See the caveats in the documentation: http://pandas.pydata.org/pandas-docs/stable/indexing.html#indexing-view-versus-copy\n",
      "  This is separate from the ipykernel package so we can avoid doing imports until\n",
      "/usr/local/lib/python3.5/dist-packages/ipykernel_launcher.py:5: SettingWithCopyWarning: \n",
      "A value is trying to be set on a copy of a slice from a DataFrame\n",
      "\n",
      "See the caveats in the documentation: http://pandas.pydata.org/pandas-docs/stable/indexing.html#indexing-view-versus-copy\n",
      "  \"\"\"\n"
     ]
    }
   ],
   "source": [
    "for i in range(0, len(dataset)):\n",
    "    if(dataset['percentage'][i] < 50):\n",
    "        dataset['Sentiment'][i] = 0\n",
    "    else:\n",
    "        dataset['Sentiment'][i] = 1"
   ]
  },
  {
   "cell_type": "code",
   "execution_count": 5,
   "metadata": {},
   "outputs": [
    {
     "data": {
      "text/html": [
       "<div>\n",
       "<style scoped>\n",
       "    .dataframe tbody tr th:only-of-type {\n",
       "        vertical-align: middle;\n",
       "    }\n",
       "\n",
       "    .dataframe tbody tr th {\n",
       "        vertical-align: top;\n",
       "    }\n",
       "\n",
       "    .dataframe thead th {\n",
       "        text-align: right;\n",
       "    }\n",
       "</style>\n",
       "<table border=\"1\" class=\"dataframe\">\n",
       "  <thead>\n",
       "    <tr style=\"text-align: right;\">\n",
       "      <th></th>\n",
       "      <th>id</th>\n",
       "      <th>percentage</th>\n",
       "      <th>review</th>\n",
       "      <th>Sentiment</th>\n",
       "    </tr>\n",
       "  </thead>\n",
       "  <tbody>\n",
       "    <tr>\n",
       "      <th>0</th>\n",
       "      <td>1</td>\n",
       "      <td>9</td>\n",
       "      <td>I am disappointed with this app I thought that...</td>\n",
       "      <td>0</td>\n",
       "    </tr>\n",
       "    <tr>\n",
       "      <th>1</th>\n",
       "      <td>2</td>\n",
       "      <td>7</td>\n",
       "      <td>This game is only trying to make money So stup...</td>\n",
       "      <td>0</td>\n",
       "    </tr>\n",
       "    <tr>\n",
       "      <th>2</th>\n",
       "      <td>3</td>\n",
       "      <td>91</td>\n",
       "      <td>Really fun app I love it its very fun you shou...</td>\n",
       "      <td>1</td>\n",
       "    </tr>\n",
       "    <tr>\n",
       "      <th>3</th>\n",
       "      <td>4</td>\n",
       "      <td>99</td>\n",
       "      <td>User friendly. Good mix of games play daily.  ...</td>\n",
       "      <td>1</td>\n",
       "    </tr>\n",
       "    <tr>\n",
       "      <th>4</th>\n",
       "      <td>5</td>\n",
       "      <td>50</td>\n",
       "      <td>Soopa fast Great app but it allways has my tea...</td>\n",
       "      <td>1</td>\n",
       "    </tr>\n",
       "  </tbody>\n",
       "</table>\n",
       "</div>"
      ],
      "text/plain": [
       "   id  percentage                                             review Sentiment\n",
       "0   1           9  I am disappointed with this app I thought that...         0\n",
       "1   2           7  This game is only trying to make money So stup...         0\n",
       "2   3          91  Really fun app I love it its very fun you shou...         1\n",
       "3   4          99  User friendly. Good mix of games play daily.  ...         1\n",
       "4   5          50  Soopa fast Great app but it allways has my tea...         1"
      ]
     },
     "execution_count": 5,
     "metadata": {},
     "output_type": "execute_result"
    }
   ],
   "source": [
    "# gives the top 5 rows of the dataset\n",
    "dataset.head()"
   ]
  },
  {
   "cell_type": "code",
   "execution_count": 6,
   "metadata": {},
   "outputs": [
    {
     "data": {
      "text/html": [
       "<div>\n",
       "<style scoped>\n",
       "    .dataframe tbody tr th:only-of-type {\n",
       "        vertical-align: middle;\n",
       "    }\n",
       "\n",
       "    .dataframe tbody tr th {\n",
       "        vertical-align: top;\n",
       "    }\n",
       "\n",
       "    .dataframe thead th {\n",
       "        text-align: right;\n",
       "    }\n",
       "</style>\n",
       "<table border=\"1\" class=\"dataframe\">\n",
       "  <thead>\n",
       "    <tr style=\"text-align: right;\">\n",
       "      <th></th>\n",
       "      <th>review</th>\n",
       "    </tr>\n",
       "  </thead>\n",
       "  <tbody>\n",
       "    <tr>\n",
       "      <th>0</th>\n",
       "      <td>I am disappointed with this app I thought that...</td>\n",
       "    </tr>\n",
       "    <tr>\n",
       "      <th>1</th>\n",
       "      <td>This game is only trying to make money So stup...</td>\n",
       "    </tr>\n",
       "    <tr>\n",
       "      <th>2</th>\n",
       "      <td>Really fun app I love it its very fun you shou...</td>\n",
       "    </tr>\n",
       "    <tr>\n",
       "      <th>3</th>\n",
       "      <td>User friendly. Good mix of games play daily.  ...</td>\n",
       "    </tr>\n",
       "    <tr>\n",
       "      <th>4</th>\n",
       "      <td>Soopa fast Great app but it allways has my tea...</td>\n",
       "    </tr>\n",
       "  </tbody>\n",
       "</table>\n",
       "</div>"
      ],
      "text/plain": [
       "                                              review\n",
       "0  I am disappointed with this app I thought that...\n",
       "1  This game is only trying to make money So stup...\n",
       "2  Really fun app I love it its very fun you shou...\n",
       "3  User friendly. Good mix of games play daily.  ...\n",
       "4  Soopa fast Great app but it allways has my tea..."
      ]
     },
     "execution_count": 6,
     "metadata": {},
     "output_type": "execute_result"
    }
   ],
   "source": [
    "# select all the rows and review column\n",
    "dataset.iloc[:,2:3].head()"
   ]
  },
  {
   "cell_type": "markdown",
   "metadata": {},
   "source": [
    "# Text Preprocessing Part\n",
    "        1. Cleaning the text from all unwanted characters\n",
    "        2. Lower casing the text\n",
    "        3. Splitting the text\n",
    "        4. Stemming"
   ]
  },
  {
   "cell_type": "markdown",
   "metadata": {},
   "source": [
    "![title](img/dirty_data.jpg)"
   ]
  },
  {
   "cell_type": "code",
   "execution_count": 7,
   "metadata": {},
   "outputs": [
    {
     "name": "stdout",
     "output_type": "stream",
     "text": [
      "[nltk_data] Downloading package stopwords to /home/mukesh/nltk_data...\n",
      "[nltk_data]   Package stopwords is already up-to-date!\n"
     ]
    }
   ],
   "source": [
    "import re\n",
    "import nltk\n",
    "# downloading the stop words\n",
    "nltk.download('stopwords')\n",
    "from nltk.corpus import stopwords\n",
    "from nltk.stem.porter import PorterStemmer"
   ]
  },
  {
   "cell_type": "code",
   "execution_count": 8,
   "metadata": {},
   "outputs": [
    {
     "name": "stdout",
     "output_type": "stream",
     "text": [
      "Before: \n",
      "I am disappointed with this app I thought that the app would show you how to do it but it is just YouTube videos that crash my phone. I am going to have to get ride of it.\n",
      "\n",
      "After: \n",
      "disappoint app thought app would show youtub video crash phone go get ride\n",
      "Before: \n",
      "This game is only trying to make money So stupid you have to pay real money for new hero's learn how to make apps rookies\n",
      "\n",
      "After: \n",
      "game tri make money stupid pay real money new hero learn make app rooki\n",
      "Before: \n",
      "Really fun app I love it its very fun you should buy it but there is some glitches but i rate 5 over all.\n",
      "\n",
      "After: \n",
      "realli fun app love fun buy glitch rate\n",
      "Before: \n",
      "User friendly. Good mix of games play daily.  like fireworks when win a game.  Thanks.\n",
      "\n",
      "After: \n",
      "user friendli good mix game play daili like firework win game thank\n",
      "Before: \n",
      "Soopa fast Great app but it allways has my team getting beat Sort that out  there'll be another 50,000 downloading  LIVE SCORES,, \n",
      "\n",
      "After: \n",
      "soopa fast great app allway team get beat sort anoth download live score\n",
      "Before: \n",
      "Awesome My almost three year old is playing like a champ. Only downside is she asks for monkey everywhere\n",
      "\n",
      "After: \n",
      "awesom almost three year old play like champ downsid ask monkey everywher\n",
      "Before: \n",
      "Princess Tailor Boutique I loved this game you got to chose different patterns.\n",
      "\n",
      "After: \n",
      "princess tailor boutiqu love game got chose differ pattern\n",
      "Before: \n",
      "THA BEST BEST BEST BEST GAME EVER I love it halris I know I spelled it wrong the only thing is the errow part it won't let me do it BUT ITS STILL A GOOD GAME\n",
      "\n",
      "After: \n",
      "tha best best best best game ever love halri know spell wrong thing errow part let still good game\n",
      "Before: \n",
      "Best app ever I luv this app so much\n",
      "\n",
      "After: \n",
      "best app ever luv app much\n",
      "Before: \n",
      "Great free fun This game is great. It is fun, easy to use, does not crash. The only drawback is that my 4 year old son runs off with phone all the time Galaxy S2\n",
      "\n",
      "After: \n",
      "great free fun game great fun easi use crash drawback year old son run phone time galaxi\n",
      "Before: \n",
      "Amazing Thia is an amazing app so much fun and so much to do i highly recommend it\n",
      "\n",
      "After: \n",
      "amaz thia amaz app much fun much highli recommend\n",
      "Before: \n",
      "Love it... Absolutely fabulous and useful app Very user friendly...not a waste at all\n",
      "\n",
      "After: \n",
      "love absolut fabul use app user friendli wast\n",
      "Before: \n",
      "In love At first its hard to find but you will get all the words in a min to 2 mins\n",
      "\n",
      "After: \n",
      "love first hard find get word min min\n",
      "Before: \n",
      "Great My 2 yr old daughter loves it and it is perfect for her homeschooling. The app works perfectly on my android box and cell. For those who tried to download it and it may not work, maybe try subscribing. The app is free, not the programming.\n",
      "\n",
      "After: \n",
      "great yr old daughter love perfect homeschool app work perfectli android box cell tri download may work mayb tri subscrib app free program\n",
      "Before: \n",
      "Fast, stable and user friendly This paid app version is the best for accessing iracing forum on mobile device. It even directly link you to the last forum post you're following. Great app.\n",
      "\n",
      "After: \n",
      "fast stabl user friendli paid app version best access irac forum mobil devic even directli link last forum post follow great app\n",
      "Before: \n",
      "BEST TDEFENSE GAME OF ALL TIME We need MORE FIELDRUNNERS games and perhaps maybe some spinoffs A mashupcrossover with angry birds Anyway, this game rocks Fieldrunners  was the very first \n",
      "\n",
      "After: \n",
      "best tdefens game time need fieldrunn game perhap mayb spinoff mashupcrossov angri bird anyway game rock fieldrunn first\n",
      "Before: \n",
      "Its  cool game ever Keep doing what you doing... Your awesome love it.... Doing another game to... Y'all cool... I don't know what to say... Awesome\n",
      "\n",
      "After: \n",
      "cool game ever keep awesom love anoth game cool know say awesom\n",
      "Before: \n",
      "I like the game but I don't like all the pop ups of other games\n",
      "\n",
      "After: \n",
      "like game like pop up game\n",
      "Before: \n",
      "Amazing Panchtantra in Hindi This very good app. good cocept I like it\n",
      "\n",
      "After: \n",
      "amaz panchtantra hindi good app good cocept like\n",
      "Before: \n",
      "Best crossword app Excellent support.  I reported a problem with one of the updates, had a response within a couple of hours and a fix was released a few days later.  Other app developers could learn a lot about customer service from this company.\n",
      "\n",
      "After: \n",
      "best crossword app excel support report problem one updat respons within coupl hour fix releas day later app develop could learn lot custom servic compani\n",
      "Before: \n",
      "The money is hard to come by. Getting the cash is a lot of work n when you get it, it's just to little. It is a great game though\n",
      "\n",
      "After: \n",
      "money hard come get cash lot work n get littl great game though\n",
      "Before: \n",
      "Fun There aren't a lot of games that keep my attention but with this one I can't get enough\n",
      "\n",
      "After: \n",
      "fun lot game keep attent one get enough\n",
      "Before: \n",
      "Great I Love the game but I have a couple of suggestions. I think you should have to pay for broken axels and engines. And add season points.\n",
      "\n",
      "After: \n",
      "great love game coupl suggest think pay broken axel engin add season point\n",
      "Before: \n",
      "Fantastic Brain feeding app You' ll get to add some new facts gen  knowledge to yout head Go ahead and just install it.. I personally enjoy it its challenging and giving u the corrext answers if ur wrong..\n",
      "\n",
      "After: \n",
      "fantast brain feed app get add new fact gen knowledg yout head go ahead instal person enjoy challeng give u corrext answer ur wrong\n",
      "Before: \n",
      "Probably never going to play it I don't really play games on my phone but I had to spend some of my filthy american money to support Yathzee.\n",
      "\n",
      "After: \n",
      "probabl never go play realli play game phone spend filthi american money support yathze\n",
      "Before: \n",
      "Was fun Seems like after update you win 1 out of 100 spins.... which isn't enough money.... and I refuse to pay real money for fake money.... still nice concept though\n",
      "\n",
      "After: \n",
      "fun seem like updat win spin enough money refus pay real money fake money still nice concept though\n",
      "Before: \n",
      "Love the game BUT..... Love the always will but theirs no obvious way to mute sounds I like to listen to alot of podcast while I play this is impossible as far as I can see currently\n",
      "\n",
      "After: \n",
      "love game love alway obviou way mute sound like listen alot podcast play imposs far see current\n",
      "Before: \n",
      "Waste of time Its totally a waste of time game I don't know y u make such a games and waste your time too guys pls don't waste your time in this type of games\n",
      "\n",
      "After: \n",
      "wast time total wast time game know u make game wast time guy pl wast time type game\n",
      "Before: \n",
      "DOWNLOAD GOLF FRONTIER ITS BETTER Developer BURIED my comment because his app is CRAP DOWNLOAD GOLF FRONTIER IT WORKS FLAWLESSLY FOR FREE This app doesnt have courses updated and gives \n",
      "\n",
      "After: \n",
      "download golf frontier better develop buri comment app crap download golf frontier work flawlessli free app doesnt cours updat give\n",
      "Before: \n",
      "Glichy The game is so glichy when I mine it doesn't mine the block and I'm glitching in the ground\n",
      "\n",
      "After: \n",
      "glichi game glichi mine mine block glitch ground\n",
      "Before: \n",
      "More effort required Good content but terrible presentation. Really no update visually including the widget for past few months to years almost. There are so many visually stunning weather apps out there.  Please at least have a look at yahoo one.\n",
      "\n",
      "After: \n",
      "effort requir good content terribl present realli updat visual includ widget past month year almost mani visual stun weather app pleas least look yahoo one\n",
      "Before: \n",
      "No Material design. Lacks polished user interface. Could take a few GUI design notes from the Reddit News app.\n",
      "\n",
      "After: \n",
      "materi design lack polish user interfac could take gui design note reddit news app\n",
      "Before: \n",
      "Don't work I hate it you have to craft your tools in creative change in and I'll rate five and if dont I'll delete the game and get mine craft\n",
      "\n",
      "After: \n",
      "work hate craft tool creativ chang rate five dont delet game get mine craft\n",
      "Before: \n",
      "Crashes tablet Tried installing multiple times e with the same result.  Freezes up and sometimes crashes Galaxy Tab 3.    to dev I no longer have it installed and don't want to reinstall it.  But showing you care deserves at least another star...\n",
      "\n",
      "After: \n",
      "crash tablet tri instal multipl time e result freez sometim crash galaxi tab dev longer instal want reinstal show care deserv least anoth star\n",
      "Before: \n",
      "It sucks I keep losing and keeps freezing\n",
      "\n",
      "After: \n",
      "suck keep lose keep freez\n",
      "Before: \n",
      "Refund needed This game keeps forclosing smh....uninstalled since I can't play it fully plz contact me.\n",
      "\n",
      "After: \n",
      "refund need game keep forclos smh uninstal sinc play fulli plz contact\n",
      "Before: \n",
      "I HATE IT I hate it because it would not even load SO SO SO SO SO SO SO SO BAD\n",
      "\n",
      "After: \n",
      "hate hate would even load bad\n",
      "Before: \n",
      "Its  pure rubbish Who ever programmed this wasn't using half of their brain,what's the point of creating a game if win or progress    Horrible waste of   my time. Uninstalled it within 15 min of playing\n",
      "\n",
      "After: \n",
      "pure rubbish ever program use half brain point creat game win progress horribl wast time uninstal within min play\n",
      "Before: \n",
      "Very disappointing. ..fix it Was all the way done with game waiting for new levels...now I have to start all over again...lost everything\n",
      "\n",
      "After: \n",
      "disappoint fix way done game wait new level start lost everyth\n",
      "Before: \n",
      "Network error Today i installed this game and i open to play this game requires update 166 but it didnt run then it says error with connection issue i check my connection its working how can i get it to patch please help me\n",
      "\n",
      "After: \n",
      "network error today instal game open play game requir updat didnt run say error connect issu check connect work get patch pleas help\n",
      "Before: \n",
      "Problems with mor problems I love the game, but the technical issues are getting on my nerves. Also the time clock for your ranking is short, it just a tactic to spend your coins.\n",
      "\n",
      "After: \n",
      "problem mor problem love game technic issu get nerv also time clock rank short tactic spend coin\n",
      "Before: \n",
      "Been playing for so long and can't get close to enough coins to play the slot games were you need 100000 minimum coins to play, have never got a jackpot to unlock the higher levels.\n",
      "\n",
      "After: \n",
      "play long get close enough coin play slot game need minimum coin play never got jackpot unlock higher level\n",
      "Before: \n",
      "Bad bad bad Won't load, can't open very angry 3 year old and mum so mad\n",
      "\n",
      "After: \n",
      "bad bad bad load open angri year old mum mad\n",
      "Before: \n",
      "Used to be a good game. Now it lags on some of the fastest wifis out there. Used to be a decent game and would have said it to be a 6 star. That was 2 months ago and now i can barly play it because of the lag.\n"
     ]
    },
    {
     "name": "stdout",
     "output_type": "stream",
     "text": [
      "\n",
      "After: \n",
      "use good game lag fastest wifi use decent game would said star month ago barli play lag\n",
      "Before: \n",
      "If I could rate no stars I would. No instructions\n",
      "\n",
      "After: \n",
      "could rate star would instruct\n",
      "Before: \n",
      "Login fail This app keeps telling me my login credentials are wrong, which it is not, removing from my fone as of now.\n",
      "\n",
      "After: \n",
      "login fail app keep tell login credenti wrong remov fone\n",
      "Before: \n",
      "Crashed right in the middle of the 1st game playin and all was good, then it just crashed, VERY FRUSTRATING\n",
      "\n",
      "After: \n",
      "crash right middl st game playin good crash frustrat\n",
      "Before: \n",
      "Need help I emailed the support already, and waiting for response. This app closed itself after some black screen, really disappointed.\n",
      "\n",
      "After: \n",
      "need help email support alreadi wait respons app close black screen realli disappoint\n",
      "Before: \n",
      "Attention please When i tried to open it, it takes too long to load eventho my Internet showed excellent .. gtMalaysia n using Samsung S5 ... please fix\n",
      "\n",
      "After: \n",
      "attent pleas tri open take long load eventho internet show excel gtmalaysia n use samsung pleas fix\n",
      "Before: \n",
      "Addicting game STOP CRASHING Need to update or do something. It seriously crashes every 30 seconds. I wrote that a flipping MONTH AGO Yep, it's still crashing. They better do something about it soon. Because, I'm starting to lose interest\n",
      "\n",
      "After: \n",
      "addict game stop crash need updat someth serious crash everi second wrote flip month ago yep still crash better someth soon start lose interest\n"
     ]
    }
   ],
   "source": [
    "corpus = [] # collection of all cleansed texts\n",
    "\n",
    "for i in range(0, 50):\n",
    "    print(\"Before: \")\n",
    "    print(dataset['review'][i])\n",
    "    review = re.sub('[^a-zA-Z]', ' ', dataset['review'][i])\n",
    "    review = review.lower()\n",
    "    review = review.split()\n",
    "    ps = PorterStemmer()\n",
    "    review = [ps.stem(word) for word in review if not word in set(stopwords.words('english'))]\n",
    "    review = ' '.join(review)\n",
    "    print(\"\")\n",
    "    print(\"After: \")\n",
    "    print(review)\n",
    "    corpus.append(review)"
   ]
  },
  {
   "cell_type": "markdown",
   "metadata": {},
   "source": [
    "# Why we are doing text Processing?\n",
    "\n",
    "- We have to extract features from the text.\n",
    "- the no of features should not be huge\n",
    "- if no of features extracted are huge, more words – more columns – more sparsity – more complexity in model – more computation time – slow responses. \n",
    "- if no of features extracted are less, less words – less columns – less sparsity – less complexity in model – less computation time – fast responses."
   ]
  },
  {
   "cell_type": "markdown",
   "metadata": {},
   "source": [
    "![title](img/Picture2.png)"
   ]
  },
  {
   "cell_type": "markdown",
   "metadata": {},
   "source": [
    "![title](img/classifier_creation.png)"
   ]
  },
  {
   "cell_type": "markdown",
   "metadata": {},
   "source": [
    "# 1. Creating Bag of Words Model\n",
    "# Feature Extraction\n",
    "    - Sparse matrix\n",
    "        matrix having lot of zeros\n",
    "    In this section,\n",
    "        - Rows – reviews of the apps\n",
    "        - Columns – meaningful and influential words extracted from the reviews\n",
    "    For ideal ML model,\n",
    "        - sparsity should be reduced as much as possible\n",
    "![title](img/Picture4.png)\n"
   ]
  },
  {
   "cell_type": "code",
   "execution_count": 9,
   "metadata": {},
   "outputs": [
    {
     "name": "stdout",
     "output_type": "stream",
     "text": [
      "CountVectorizer(analyzer='word', binary=False, decode_error='strict',\n",
      "        dtype=<class 'numpy.int64'>, encoding='utf-8', input='content',\n",
      "        lowercase=True, max_df=1.0, max_features=100, min_df=1,\n",
      "        ngram_range=(1, 1), preprocessor=None, stop_words=None,\n",
      "        strip_accents=None, token_pattern='(?u)\\\\b\\\\w\\\\w+\\\\b',\n",
      "        tokenizer=None, vocabulary=None)\n",
      "<class 'sklearn.feature_extraction.text.CountVectorizer'>\n"
     ]
    }
   ],
   "source": [
    "from sklearn.feature_extraction.text import CountVectorizer\n",
    "cv = CountVectorizer(max_features = 100) # creating an object for the class CountVectorizer\n",
    "print(cv)\n",
    "print(type(cv))"
   ]
  },
  {
   "cell_type": "code",
   "execution_count": 10,
   "metadata": {},
   "outputs": [
    {
     "name": "stdout",
     "output_type": "stream",
     "text": [
      "The first review is:  disappoint app thought app would show youtub video crash phone go get ride\n",
      "Extracted features from X (independent set): \n",
      "['add', 'amaz', 'angri', 'anoth', 'app', 'attent', 'awesom', 'bad', 'best', 'better', 'brain', 'close', 'coin', 'could', 'craft', 'crash', 'disappoint', 'download', 'enough', 'error', 'even', 'ever', 'excel', 'fast', 'fieldrunn', 'first', 'fix', 'forum', 'free', 'freez', 'friendli', 'frontier', 'fun', 'galaxi', 'game', 'get', 'go', 'good', 'got', 'great', 'hard', 'hate', 'help', 'instal', 'issu', 'keep', 'know', 'lag', 'learn', 'least', 'level', 'like', 'load', 'lot', 'love', 'make', 'mayb', 'min', 'mine', 'money', 'month', 'much', 'need', 'new', 'old', 'one', 'open', 'pay', 'phone', 'play', 'pleas', 'problem', 'program', 'rate', 'real', 'realli', 'respons', 'run', 'show', 'someth', 'spend', 'star', 'start', 'still', 'support', 'time', 'tri', 'uninstal', 'updat', 'use', 'user', 'visual', 'wast', 'way', 'win', 'within', 'work', 'would', 'wrong', 'year']\n",
      "No of features extracted\n",
      "100\n"
     ]
    },
    {
     "data": {
      "text/plain": [
       "50"
      ]
     },
     "execution_count": 10,
     "metadata": {},
     "output_type": "execute_result"
    }
   ],
   "source": [
    "#fitting and then transforming corpus into X(independent variable)\n",
    "X = cv.fit_transform(corpus).toarray()\n",
    "X_features = cv.get_feature_names()\n",
    "\n",
    "print(\"The first review is: \", corpus[0])\n",
    "print(\"Extracted features from X (independent set): \")\n",
    "print(X_features)\n",
    "print(\"No of features extracted\")\n",
    "print(len(X_features))\n",
    "len(X)"
   ]
  },
  {
   "cell_type": "code",
   "execution_count": 11,
   "metadata": {},
   "outputs": [
    {
     "name": "stdout",
     "output_type": "stream",
     "text": [
      "[0 0 1 1 1 1 1 1 1 1 1 1 1 1 1 1 1 1 1 1 1 1 1 1 0 0 0 0 0 0 0 0 0 0 0 0 0\n",
      " 0 0 0 0 0 0 0 0 0 0 0 0 0]\n"
     ]
    }
   ],
   "source": [
    "y = dataset.iloc[0:50, 3].values\n",
    "print(y)\n",
    "y = y.astype('int')"
   ]
  },
  {
   "cell_type": "markdown",
   "metadata": {},
   "source": [
    "# 2. Splitting dataset into training dataset and test dataset"
   ]
  },
  {
   "cell_type": "markdown",
   "metadata": {},
   "source": [
    "![title](img/dataset_splitting.png)"
   ]
  },
  {
   "cell_type": "code",
   "execution_count": 12,
   "metadata": {},
   "outputs": [],
   "source": [
    "# Splitting the dataset into the Training set and Test set\n",
    "from sklearn.model_selection import train_test_split\n",
    "X_train, X_test, y_train, y_test = train_test_split(X, y, test_size = 0.30, random_state = 0)"
   ]
  },
  {
   "cell_type": "code",
   "execution_count": 13,
   "metadata": {},
   "outputs": [],
   "source": [
    "#training set - seeing what are taken for training set\n",
    "# features that are selected from the training data\n",
    "hX_train = cv.inverse_transform(X_train)\n",
    "# features that are selected from the testing data\n",
    "hX_test = cv.inverse_transform(X_test)"
   ]
  },
  {
   "cell_type": "code",
   "execution_count": 14,
   "metadata": {},
   "outputs": [
    {
     "name": "stdout",
     "output_type": "stream",
     "text": [
      "Training set - Reviews and their corresponding like or dislike\n",
      "[array(['best', 'ever', 'game', 'good', 'know', 'love', 'still', 'wrong'],\n",
      "      dtype='<U10'), array(['app', 'best', 'even', 'fast', 'forum', 'friendli', 'great',\n",
      "       'user'], dtype='<U10'), array(['app', 'keep', 'wrong'], dtype='<U10'), array(['attent', 'excel', 'fix', 'load', 'open', 'pleas', 'show', 'tri',\n",
      "       'use'], dtype='<U10'), array(['game', 'mine'], dtype='<U10'), array(['angri', 'best', 'fieldrunn', 'first', 'game', 'mayb', 'need',\n",
      "       'time'], dtype='<U10'), array(['app', 'good', 'least', 'month', 'one', 'pleas', 'realli', 'updat',\n",
      "       'visual', 'year'], dtype='<U10'), array(['craft', 'game', 'get', 'hate', 'mine', 'rate', 'work'],\n",
      "      dtype='<U10'), array(['anoth', 'awesom', 'ever', 'game', 'keep', 'know', 'love'],\n",
      "      dtype='<U10'), array(['angri', 'bad', 'load', 'old', 'open', 'year'], dtype='<U10'), array(['game', 'get', 'great', 'hard', 'lot', 'money', 'work'],\n",
      "      dtype='<U10'), array(['game', 'good', 'lag', 'month', 'play', 'star', 'use', 'would'],\n",
      "      dtype='<U10'), array(['app', 'best', 'ever', 'much'], dtype='<U10'), array(['app', 'download', 'free', 'great', 'love', 'mayb', 'old',\n",
      "       'program', 'tri', 'work'], dtype='<U10'), array(['enough', 'fun', 'like', 'money', 'pay', 'real', 'still', 'updat',\n",
      "       'win'], dtype='<U10')]\n",
      "[1 1 0 0 0 1 0 0 1 0 1 0 1 1 0]\n"
     ]
    }
   ],
   "source": [
    "print(\"Training set - Reviews and their corresponding like or dislike\")\n",
    "print(hX_train[0:15])\n",
    "print(y_train[0:15])"
   ]
  },
  {
   "cell_type": "markdown",
   "metadata": {},
   "source": [
    "# 3. Import and fit classifier to training set"
   ]
  },
  {
   "cell_type": "markdown",
   "metadata": {},
   "source": [
    "![title](img/fornlp.png)"
   ]
  },
  {
   "cell_type": "code",
   "execution_count": 15,
   "metadata": {},
   "outputs": [],
   "source": [
    "from sklearn.ensemble import RandomForestClassifier\n",
    "from sklearn.naive_bayes import GaussianNB\n",
    "from sklearn import tree"
   ]
  },
  {
   "cell_type": "code",
   "execution_count": 16,
   "metadata": {},
   "outputs": [
    {
     "data": {
      "text/plain": [
       "DecisionTreeClassifier(class_weight=None, criterion='gini', max_depth=None,\n",
       "            max_features=None, max_leaf_nodes=None,\n",
       "            min_impurity_decrease=0.0, min_impurity_split=None,\n",
       "            min_samples_leaf=1, min_samples_split=2,\n",
       "            min_weight_fraction_leaf=0.0, presort=False, random_state=None,\n",
       "            splitter='best')"
      ]
     },
     "execution_count": 16,
     "metadata": {},
     "output_type": "execute_result"
    }
   ],
   "source": [
    "# Fitting Decision Tree to the Training set\n",
    "classifier = tree.DecisionTreeClassifier()\n",
    "classifier.fit(X_train, y_train)"
   ]
  },
  {
   "cell_type": "markdown",
   "metadata": {},
   "source": [
    "# 4. Make predictions on test set"
   ]
  },
  {
   "cell_type": "code",
   "execution_count": 17,
   "metadata": {},
   "outputs": [
    {
     "name": "stdout",
     "output_type": "stream",
     "text": [
      "[array(['app', 'better', 'download', 'free', 'frontier', 'updat', 'work'],\n",
      "      dtype='<U10'), array(['app', 'friendli', 'love', 'use', 'user', 'wast'], dtype='<U10'), array(['amaz', 'app', 'fun', 'much'], dtype='<U10'), array(['close', 'coin', 'enough', 'game', 'get', 'got', 'level', 'need',\n",
      "       'play'], dtype='<U10'), array(['app', 'fun', 'love', 'rate', 'realli'], dtype='<U10'), array(['game', 'know', 'make', 'time', 'wast'], dtype='<U10'), array(['disappoint', 'fix', 'game', 'level', 'new', 'start', 'way'],\n",
      "      dtype='<U10'), array(['app', 'could', 'user'], dtype='<U10'), array(['add', 'game', 'great', 'love', 'pay'], dtype='<U10'), array(['anoth', 'app', 'download', 'fast', 'get', 'great'], dtype='<U10'), array(['anoth', 'crash', 'freez', 'galaxi', 'instal', 'least', 'show',\n",
      "       'star', 'time', 'tri'], dtype='<U10'), array(['game', 'keep', 'need', 'play', 'uninstal'], dtype='<U10'), array(['game', 'like', 'love', 'play', 'way'], dtype='<U10'), array(['freez', 'keep'], dtype='<U10'), array(['amaz', 'app', 'good', 'like'], dtype='<U10')]\n",
      "[0 1 1 0 1 0 0 0 1 1 0 0 0 0 1]\n",
      "[0 1 0 0 1 0 0 0 1 1 0 0 1 0 1]\n"
     ]
    }
   ],
   "source": [
    "y_pred = classifier.predict(X_test)\n",
    "print(hX_test)\n",
    "print(y_test)\n",
    "print(y_pred)"
   ]
  },
  {
   "cell_type": "markdown",
   "metadata": {},
   "source": [
    "# 5. Evaluating the performance by different metrics "
   ]
  },
  {
   "cell_type": "markdown",
   "metadata": {},
   "source": [
    "![title](img/confu.png)"
   ]
  },
  {
   "cell_type": "code",
   "execution_count": 18,
   "metadata": {},
   "outputs": [
    {
     "data": {
      "text/plain": [
       "array([[8, 1],\n",
       "       [1, 5]])"
      ]
     },
     "execution_count": 18,
     "metadata": {},
     "output_type": "execute_result"
    }
   ],
   "source": [
    "from sklearn.metrics import confusion_matrix\n",
    "\n",
    "cm = confusion_matrix(y_test, y_pred)\n",
    "cm"
   ]
  },
  {
   "cell_type": "code",
   "execution_count": 19,
   "metadata": {},
   "outputs": [
    {
     "name": "stdout",
     "output_type": "stream",
     "text": [
      "the test set are\n",
      "[array(['app', 'better', 'download', 'free', 'frontier', 'updat', 'work'],\n",
      "      dtype='<U10'), array(['app', 'friendli', 'love', 'use', 'user', 'wast'], dtype='<U10'), array(['amaz', 'app', 'fun', 'much'], dtype='<U10'), array(['close', 'coin', 'enough', 'game', 'get', 'got', 'level', 'need',\n",
      "       'play'], dtype='<U10'), array(['app', 'fun', 'love', 'rate', 'realli'], dtype='<U10'), array(['game', 'know', 'make', 'time', 'wast'], dtype='<U10'), array(['disappoint', 'fix', 'game', 'level', 'new', 'start', 'way'],\n",
      "      dtype='<U10'), array(['app', 'could', 'user'], dtype='<U10'), array(['add', 'game', 'great', 'love', 'pay'], dtype='<U10'), array(['anoth', 'app', 'download', 'fast', 'get', 'great'], dtype='<U10'), array(['anoth', 'crash', 'freez', 'galaxi', 'instal', 'least', 'show',\n",
      "       'star', 'time', 'tri'], dtype='<U10'), array(['game', 'keep', 'need', 'play', 'uninstal'], dtype='<U10'), array(['game', 'like', 'love', 'play', 'way'], dtype='<U10'), array(['freez', 'keep'], dtype='<U10'), array(['amaz', 'app', 'good', 'like'], dtype='<U10')]\n"
     ]
    }
   ],
   "source": [
    "# seeing test reviews their actual and predictions\n",
    "print(\"the test set are\")\n",
    "print(hX_test[0:15])"
   ]
  },
  {
   "cell_type": "code",
   "execution_count": 20,
   "metadata": {},
   "outputs": [
    {
     "name": "stdout",
     "output_type": "stream",
     "text": [
      "y_test\n",
      "[0 1 1 0 1 0 0 0 1 1 0 0 0 0 1]\n",
      "y_pred\n",
      "[0 1 0 0 1 0 0 0 1 1 0 0 1 0 1]\n"
     ]
    }
   ],
   "source": [
    "print(\"y_test\")\n",
    "print(y_test)\n",
    "\n",
    "print(\"y_pred\")\n",
    "print(y_pred)"
   ]
  },
  {
   "cell_type": "code",
   "execution_count": 21,
   "metadata": {},
   "outputs": [
    {
     "name": "stdout",
     "output_type": "stream",
     "text": [
      "Accuracy score:\n",
      "0.8666666666666667\n"
     ]
    }
   ],
   "source": [
    "print(\"Accuracy score:\")\n",
    "print(classifier.score(X_test, y_test))"
   ]
  }
 ],
 "metadata": {
  "kernelspec": {
   "display_name": "Python 3",
   "language": "python",
   "name": "python3"
  },
  "language_info": {
   "codemirror_mode": {
    "name": "ipython",
    "version": 3
   },
   "file_extension": ".py",
   "mimetype": "text/x-python",
   "name": "python",
   "nbconvert_exporter": "python",
   "pygments_lexer": "ipython3",
   "version": "3.8.5"
  }
 },
 "nbformat": 4,
 "nbformat_minor": 2
}
