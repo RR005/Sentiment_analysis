{
 "cells": [
  {
   "cell_type": "code",
   "execution_count": 1,
   "metadata": {
    "colab": {},
    "colab_type": "code",
    "id": "a2gIU_KxQDr6"
   },
   "outputs": [],
   "source": [
    "import pandas as pd\n",
    "import numpy as np         #4/zwETA8UKEBIv3lQzY9ulwrtaiAOz1LnKxXuug8y3ReTOXnteaFjKrV0"
   ]
  },
  {
   "cell_type": "code",
   "execution_count": 3,
   "metadata": {
    "colab": {
     "base_uri": "https://localhost:8080/",
     "height": 121
    },
    "colab_type": "code",
    "id": "rhUAlLFuRCyN",
    "outputId": "6146a764-d3ab-4119-fc4a-f9d302205f2d"
   },
   "outputs": [
    {
     "name": "stdout",
     "output_type": "stream",
     "text": [
      "Go to this URL in a browser: https://accounts.google.com/o/oauth2/auth?client_id=947318989803-6bn6qk8qdgf4n4g3pfee6491hc0brc4i.apps.googleusercontent.com&redirect_uri=urn%3aietf%3awg%3aoauth%3a2.0%3aoob&response_type=code&scope=email%20https%3a%2f%2fwww.googleapis.com%2fauth%2fdocs.test%20https%3a%2f%2fwww.googleapis.com%2fauth%2fdrive%20https%3a%2f%2fwww.googleapis.com%2fauth%2fdrive.photos.readonly%20https%3a%2f%2fwww.googleapis.com%2fauth%2fpeopleapi.readonly\n",
      "\n",
      "Enter your authorization code:\n",
      "··········\n",
      "Mounted at /content/drive\n"
     ]
    }
   ],
   "source": [
    "from google.colab import drive\n",
    "drive.mount('/content/drive')"
   ]
  },
  {
   "cell_type": "code",
   "execution_count": 2,
   "metadata": {
    "colab": {},
    "colab_type": "code",
    "id": "k04hYGheRTdH"
   },
   "outputs": [],
   "source": [
    "path=\"New_papers/tweet-sentiment-extraction/train.csv\""
   ]
  },
  {
   "cell_type": "code",
   "execution_count": 3,
   "metadata": {
    "colab": {},
    "colab_type": "code",
    "id": "v9SvCEy9QDsB"
   },
   "outputs": [],
   "source": [
    "ds = pd.read_csv(path)"
   ]
  },
  {
   "cell_type": "code",
   "execution_count": 4,
   "metadata": {
    "colab": {
     "base_uri": "https://localhost:8080/",
     "height": 195
    },
    "colab_type": "code",
    "id": "0Guf2Iv8QDsE",
    "outputId": "188c78fc-d024-42e4-fccb-428130fc91d3"
   },
   "outputs": [
    {
     "data": {
      "text/html": [
       "<div>\n",
       "<style scoped>\n",
       "    .dataframe tbody tr th:only-of-type {\n",
       "        vertical-align: middle;\n",
       "    }\n",
       "\n",
       "    .dataframe tbody tr th {\n",
       "        vertical-align: top;\n",
       "    }\n",
       "\n",
       "    .dataframe thead th {\n",
       "        text-align: right;\n",
       "    }\n",
       "</style>\n",
       "<table border=\"1\" class=\"dataframe\">\n",
       "  <thead>\n",
       "    <tr style=\"text-align: right;\">\n",
       "      <th></th>\n",
       "      <th>textID</th>\n",
       "      <th>text</th>\n",
       "      <th>selected_text</th>\n",
       "      <th>sentiment</th>\n",
       "    </tr>\n",
       "  </thead>\n",
       "  <tbody>\n",
       "    <tr>\n",
       "      <th>0</th>\n",
       "      <td>cb774db0d1</td>\n",
       "      <td>I`d have responded, if I were going</td>\n",
       "      <td>I`d have responded, if I were going</td>\n",
       "      <td>neutral</td>\n",
       "    </tr>\n",
       "    <tr>\n",
       "      <th>1</th>\n",
       "      <td>549e992a42</td>\n",
       "      <td>Sooo SAD I will miss you here in San Diego!!!</td>\n",
       "      <td>Sooo SAD</td>\n",
       "      <td>negative</td>\n",
       "    </tr>\n",
       "    <tr>\n",
       "      <th>2</th>\n",
       "      <td>088c60f138</td>\n",
       "      <td>my boss is bullying me...</td>\n",
       "      <td>bullying me</td>\n",
       "      <td>negative</td>\n",
       "    </tr>\n",
       "    <tr>\n",
       "      <th>3</th>\n",
       "      <td>9642c003ef</td>\n",
       "      <td>what interview! leave me alone</td>\n",
       "      <td>leave me alone</td>\n",
       "      <td>negative</td>\n",
       "    </tr>\n",
       "    <tr>\n",
       "      <th>4</th>\n",
       "      <td>358bd9e861</td>\n",
       "      <td>Sons of ****, why couldn`t they put them on t...</td>\n",
       "      <td>Sons of ****,</td>\n",
       "      <td>negative</td>\n",
       "    </tr>\n",
       "  </tbody>\n",
       "</table>\n",
       "</div>"
      ],
      "text/plain": [
       "       textID                                               text  \\\n",
       "0  cb774db0d1                I`d have responded, if I were going   \n",
       "1  549e992a42      Sooo SAD I will miss you here in San Diego!!!   \n",
       "2  088c60f138                          my boss is bullying me...   \n",
       "3  9642c003ef                     what interview! leave me alone   \n",
       "4  358bd9e861   Sons of ****, why couldn`t they put them on t...   \n",
       "\n",
       "                         selected_text sentiment  \n",
       "0  I`d have responded, if I were going   neutral  \n",
       "1                             Sooo SAD  negative  \n",
       "2                          bullying me  negative  \n",
       "3                       leave me alone  negative  \n",
       "4                        Sons of ****,  negative  "
      ]
     },
     "execution_count": 4,
     "metadata": {},
     "output_type": "execute_result"
    }
   ],
   "source": [
    "ds.head()"
   ]
  },
  {
   "cell_type": "code",
   "execution_count": 5,
   "metadata": {
    "colab": {
     "base_uri": "https://localhost:8080/",
     "height": 34
    },
    "colab_type": "code",
    "id": "Px7LaYZXQDsL",
    "outputId": "0881682d-7312-4d50-b801-96a66aeb5710"
   },
   "outputs": [
    {
     "data": {
      "text/plain": [
       "27481"
      ]
     },
     "execution_count": 5,
     "metadata": {},
     "output_type": "execute_result"
    }
   ],
   "source": [
    "h = ds['text'].isnull()\n",
    "len(ds)\n",
    "#dataset['sentiment'][0] == 'neutral'"
   ]
  },
  {
   "cell_type": "code",
   "execution_count": 6,
   "metadata": {
    "colab": {
     "base_uri": "https://localhost:8080/",
     "height": 34
    },
    "colab_type": "code",
    "id": "6MG7yjFJiShZ",
    "outputId": "bcac8356-d46c-4d35-cc66-d6c88505a872"
   },
   "outputs": [
    {
     "name": "stdout",
     "output_type": "stream",
     "text": [
      "314\n"
     ]
    }
   ],
   "source": [
    "for i in range(len(h)):\n",
    "  if h[i]==True:\n",
    "    print(i)"
   ]
  },
  {
   "cell_type": "code",
   "execution_count": 7,
   "metadata": {
    "colab": {
     "base_uri": "https://localhost:8080/",
     "height": 418
    },
    "colab_type": "code",
    "id": "L7Oo03N6QDsP",
    "outputId": "f5266aeb-6deb-420e-e96d-7a29b39d0f13"
   },
   "outputs": [
    {
     "name": "stdout",
     "output_type": "stream",
     "text": [
      "27480\n"
     ]
    },
    {
     "data": {
      "text/html": [
       "<div>\n",
       "<style scoped>\n",
       "    .dataframe tbody tr th:only-of-type {\n",
       "        vertical-align: middle;\n",
       "    }\n",
       "\n",
       "    .dataframe tbody tr th {\n",
       "        vertical-align: top;\n",
       "    }\n",
       "\n",
       "    .dataframe thead th {\n",
       "        text-align: right;\n",
       "    }\n",
       "</style>\n",
       "<table border=\"1\" class=\"dataframe\">\n",
       "  <thead>\n",
       "    <tr style=\"text-align: right;\">\n",
       "      <th></th>\n",
       "      <th>textID</th>\n",
       "      <th>text</th>\n",
       "      <th>selected_text</th>\n",
       "      <th>sentiment</th>\n",
       "    </tr>\n",
       "  </thead>\n",
       "  <tbody>\n",
       "    <tr>\n",
       "      <th>0</th>\n",
       "      <td>cb774db0d1</td>\n",
       "      <td>I`d have responded, if I were going</td>\n",
       "      <td>I`d have responded, if I were going</td>\n",
       "      <td>neutral</td>\n",
       "    </tr>\n",
       "    <tr>\n",
       "      <th>1</th>\n",
       "      <td>549e992a42</td>\n",
       "      <td>Sooo SAD I will miss you here in San Diego!!!</td>\n",
       "      <td>Sooo SAD</td>\n",
       "      <td>negative</td>\n",
       "    </tr>\n",
       "    <tr>\n",
       "      <th>2</th>\n",
       "      <td>088c60f138</td>\n",
       "      <td>my boss is bullying me...</td>\n",
       "      <td>bullying me</td>\n",
       "      <td>negative</td>\n",
       "    </tr>\n",
       "    <tr>\n",
       "      <th>3</th>\n",
       "      <td>9642c003ef</td>\n",
       "      <td>what interview! leave me alone</td>\n",
       "      <td>leave me alone</td>\n",
       "      <td>negative</td>\n",
       "    </tr>\n",
       "    <tr>\n",
       "      <th>4</th>\n",
       "      <td>358bd9e861</td>\n",
       "      <td>Sons of ****, why couldn`t they put them on t...</td>\n",
       "      <td>Sons of ****,</td>\n",
       "      <td>negative</td>\n",
       "    </tr>\n",
       "    <tr>\n",
       "      <th>...</th>\n",
       "      <td>...</td>\n",
       "      <td>...</td>\n",
       "      <td>...</td>\n",
       "      <td>...</td>\n",
       "    </tr>\n",
       "    <tr>\n",
       "      <th>27475</th>\n",
       "      <td>b78ec00df5</td>\n",
       "      <td>enjoy ur night</td>\n",
       "      <td>enjoy</td>\n",
       "      <td>positive</td>\n",
       "    </tr>\n",
       "    <tr>\n",
       "      <th>27476</th>\n",
       "      <td>4eac33d1c0</td>\n",
       "      <td>wish we could come see u on Denver  husband l...</td>\n",
       "      <td>d lost</td>\n",
       "      <td>negative</td>\n",
       "    </tr>\n",
       "    <tr>\n",
       "      <th>27477</th>\n",
       "      <td>4f4c4fc327</td>\n",
       "      <td>I`ve wondered about rake to.  The client has ...</td>\n",
       "      <td>, don`t force</td>\n",
       "      <td>negative</td>\n",
       "    </tr>\n",
       "    <tr>\n",
       "      <th>27478</th>\n",
       "      <td>f67aae2310</td>\n",
       "      <td>Yay good for both of you. Enjoy the break - y...</td>\n",
       "      <td>Yay good for both of you.</td>\n",
       "      <td>positive</td>\n",
       "    </tr>\n",
       "    <tr>\n",
       "      <th>27479</th>\n",
       "      <td>ed167662a5</td>\n",
       "      <td>But it was worth it  ****.</td>\n",
       "      <td>But it was worth it  ****.</td>\n",
       "      <td>positive</td>\n",
       "    </tr>\n",
       "  </tbody>\n",
       "</table>\n",
       "<p>27480 rows × 4 columns</p>\n",
       "</div>"
      ],
      "text/plain": [
       "           textID                                               text  \\\n",
       "0      cb774db0d1                I`d have responded, if I were going   \n",
       "1      549e992a42      Sooo SAD I will miss you here in San Diego!!!   \n",
       "2      088c60f138                          my boss is bullying me...   \n",
       "3      9642c003ef                     what interview! leave me alone   \n",
       "4      358bd9e861   Sons of ****, why couldn`t they put them on t...   \n",
       "...           ...                                                ...   \n",
       "27475  b78ec00df5                                     enjoy ur night   \n",
       "27476  4eac33d1c0   wish we could come see u on Denver  husband l...   \n",
       "27477  4f4c4fc327   I`ve wondered about rake to.  The client has ...   \n",
       "27478  f67aae2310   Yay good for both of you. Enjoy the break - y...   \n",
       "27479  ed167662a5                         But it was worth it  ****.   \n",
       "\n",
       "                             selected_text sentiment  \n",
       "0      I`d have responded, if I were going   neutral  \n",
       "1                                 Sooo SAD  negative  \n",
       "2                              bullying me  negative  \n",
       "3                           leave me alone  negative  \n",
       "4                            Sons of ****,  negative  \n",
       "...                                    ...       ...  \n",
       "27475                                enjoy  positive  \n",
       "27476                               d lost  negative  \n",
       "27477                        , don`t force  negative  \n",
       "27478            Yay good for both of you.  positive  \n",
       "27479           But it was worth it  ****.  positive  \n",
       "\n",
       "[27480 rows x 4 columns]"
      ]
     },
     "execution_count": 7,
     "metadata": {},
     "output_type": "execute_result"
    }
   ],
   "source": [
    "dataset=ds.dropna()\n",
    "print(len(dataset))\n",
    "dataset = dataset.reindex([i for i in range(len(dataset))])\n",
    "dataset"
   ]
  },
  {
   "cell_type": "code",
   "execution_count": 8,
   "metadata": {
    "colab": {},
    "colab_type": "code",
    "id": "fF1cec4NQDsX"
   },
   "outputs": [],
   "source": [
    "x=[]\n",
    "x_selected_text=[]\n",
    "for i in range(len(dataset)):\n",
    "    if(dataset['sentiment'][i] != 'neutral' and type(dataset['text'][i])!=float):\n",
    "      x.append(dataset[\"text\"][i].split())\n",
    "      x_selected_text.append(dataset[\"selected_text\"][i].split())"
   ]
  },
  {
   "cell_type": "code",
   "execution_count": 9,
   "metadata": {
    "colab": {
     "base_uri": "https://localhost:8080/",
     "height": 50
    },
    "colab_type": "code",
    "id": "uSu17lnrW0He",
    "outputId": "99ce8de1-40aa-4343-fca4-2607431ab2e9"
   },
   "outputs": [
    {
     "name": "stdout",
     "output_type": "stream",
     "text": [
      "['2am', 'feedings', 'for', 'the', 'baby', 'are', 'fun', 'when', 'he', 'is', 'all', 'smiles', 'and', 'coos']\n",
      "['fun']\n"
     ]
    }
   ],
   "source": [
    "print(x[4])\n",
    "print(x_selected_text[4])"
   ]
  },
  {
   "cell_type": "code",
   "execution_count": 10,
   "metadata": {
    "colab": {
     "base_uri": "https://localhost:8080/",
     "height": 34
    },
    "colab_type": "code",
    "id": "WJgEoRucr_HX",
    "outputId": "5237a9a5-7cbd-45f2-95fd-a9f4accbcd58"
   },
   "outputs": [
    {
     "name": "stdout",
     "output_type": "stream",
     "text": [
      "2552\n"
     ]
    }
   ],
   "source": [
    "indx=[]\n",
    "for i in range(len(x_selected_text)):\n",
    "      if x_selected_text[i][0] not in x[i] or x_selected_text[i][-1] not in x[i]:\n",
    "        indx.append(i)\n",
    "print(len(indx))      "
   ]
  },
  {
   "cell_type": "code",
   "execution_count": 11,
   "metadata": {
    "colab": {},
    "colab_type": "code",
    "id": "ZIH6--sMQ2D4"
   },
   "outputs": [],
   "source": [
    "improve_x=[]\n",
    "improve_x_selected_text=[]\n",
    "for i in range(len(x)):\n",
    "  if i not in indx:\n",
    "    improve_x.append(x[i])\n",
    "    improve_x_selected_text.append(x_selected_text[i])"
   ]
  },
  {
   "cell_type": "code",
   "execution_count": 75,
   "metadata": {
    "colab": {
     "base_uri": "https://localhost:8080/",
     "height": 34
    },
    "colab_type": "code",
    "id": "2Y7gBSsAWFbN",
    "outputId": "4c3ab4ed-5932-46e1-8038-706cc3efba48"
   },
   "outputs": [
    {
     "data": {
      "text/plain": [
       "'But'"
      ]
     },
     "execution_count": 75,
     "metadata": {},
     "output_type": "execute_result"
    }
   ],
   "source": [
    "x[0]"
   ]
  },
  {
   "cell_type": "code",
   "execution_count": 13,
   "metadata": {
    "colab": {
     "base_uri": "https://localhost:8080/",
     "height": 34
    },
    "colab_type": "code",
    "id": "eMASj3fAVNEY",
    "outputId": "87167517-ac19-46c0-c3ca-adf4f9cb23c8"
   },
   "outputs": [
    {
     "data": {
      "text/plain": [
       "['fun']"
      ]
     },
     "execution_count": 13,
     "metadata": {},
     "output_type": "execute_result"
    }
   ],
   "source": [
    "x_selected_text[4]"
   ]
  },
  {
   "cell_type": "code",
   "execution_count": 14,
   "metadata": {
    "colab": {
     "base_uri": "https://localhost:8080/",
     "height": 1000
    },
    "colab_type": "code",
    "id": "kxb-aFvlSYHi",
    "outputId": "d4267e81-298b-4791-9de8-fa916f84c34b"
   },
   "outputs": [
    {
     "data": {
      "text/plain": [
       "55"
      ]
     },
     "execution_count": 14,
     "metadata": {},
     "output_type": "execute_result"
    }
   ],
   "source": [
    "y=[]\n",
    "h = []\n",
    "for i in range(len(improve_x)):\n",
    "  lis=[]\n",
    "  for j in range(len(improve_x[i])):\n",
    "    if improve_x[i][j]==improve_x_selected_text[i][0] and (j+len(improve_x_selected_text[i])-1) < len(improve_x[i]):\n",
    "      if improve_x[i][j+len(improve_x_selected_text[i])-1]==improve_x_selected_text[i][-1]:\n",
    "        lis.append(1)\n",
    "      else:\n",
    "        lis.append(0)\n",
    "    elif improve_x[i][j]==improve_x_selected_text[i][-1] and (j-len(improve_x_selected_text[i])+1) >= 0:\n",
    "      if improve_x[i][j-len(improve_x_selected_text[i])+1]==improve_x_selected_text[i][0]:\n",
    "        lis.append(1)\n",
    "      else:\n",
    "        lis.append(0)\n",
    "    else:\n",
    "      lis.append(0)\n",
    "  if(len(lis)==1):\n",
    "    h.append(i)\n",
    "  y.append(lis)\n",
    "len(improve_x)\n",
    "len(h)"
   ]
  },
  {
   "cell_type": "code",
   "execution_count": 54,
   "metadata": {},
   "outputs": [],
   "source": [
    "X_train = ds.loc[:27481, 'text'].values\n"
   ]
  },
  {
   "cell_type": "code",
   "execution_count": 66,
   "metadata": {},
   "outputs": [],
   "source": [
    "total_reviews=[]\n",
    "#x_selected_text=[]\n",
    "for i in range(len(dataset)):\n",
    "    if(dataset['sentiment'][i] != 'neutral' and type(dataset['text'][i])!=float):\n",
    "      total_reviews.append(dataset[\"text\"][i].strip())\n",
    "      #x_selected_text.append(dataset[\"selected_text\"][i].split())"
   ]
  },
  {
   "cell_type": "code",
   "execution_count": 76,
   "metadata": {},
   "outputs": [],
   "source": [
    "total_review=[]\n",
    "#improve_x_selected_text=[]\n",
    "for i in range(len(total_reviews)):\n",
    "  if i not in indx:\n",
    "    total_review.append(total_reviews[i])\n",
    "    #improve_x_selected_text.append(x_selected_text[i])"
   ]
  },
  {
   "cell_type": "code",
   "execution_count": 80,
   "metadata": {},
   "outputs": [
    {
     "data": {
      "text/plain": [
       "'Sooo SAD I will miss you here in San Diego!!!'"
      ]
     },
     "execution_count": 80,
     "metadata": {},
     "output_type": "execute_result"
    }
   ],
   "source": [
    "total_review[0]"
   ]
  },
  {
   "cell_type": "code",
   "execution_count": 67,
   "metadata": {},
   "outputs": [
    {
     "data": {
      "text/plain": [
       "'Sooo SAD I will miss you here in San Diego!!!'"
      ]
     },
     "execution_count": 67,
     "metadata": {},
     "output_type": "execute_result"
    }
   ],
   "source": [
    "total_reviews[0]"
   ]
  },
  {
   "cell_type": "code",
   "execution_count": 15,
   "metadata": {
    "colab": {
     "base_uri": "https://localhost:8080/",
     "height": 67
    },
    "colab_type": "code",
    "id": "SfydC6WOfSeV",
    "outputId": "ccbbdc01-92e2-41cd-c37b-efb24c3c9030"
   },
   "outputs": [
    {
     "name": "stdout",
     "output_type": "stream",
     "text": [
      "['2am', 'feedings', 'for', 'the', 'baby', 'are', 'fun', 'when', 'he', 'is', 'all', 'smiles', 'and', 'coos']\n",
      "['fun']\n",
      "[0, 0, 0, 0, 0, 0, 1, 0, 0, 0, 0, 0, 0, 0]\n"
     ]
    }
   ],
   "source": [
    "print(improve_x[3])\n",
    "print(improve_x_selected_text[3])\n",
    "print(y[3])"
   ]
  },
  {
   "cell_type": "code",
   "execution_count": 16,
   "metadata": {
    "colab": {
     "base_uri": "https://localhost:8080/",
     "height": 34
    },
    "colab_type": "code",
    "id": "l5ovwwwogAWG",
    "outputId": "1f36c6fb-0052-4593-fa82-dd9989b32fa1"
   },
   "outputs": [
    {
     "data": {
      "text/plain": [
       "6315"
      ]
     },
     "execution_count": 16,
     "metadata": {},
     "output_type": "execute_result"
    }
   ],
   "source": [
    "li1=[]\n",
    "for i in improve_x_selected_text:\n",
    "  if len(i)==1:\n",
    "    li1.append(i)\n",
    "len(li1)                                       "
   ]
  },
  {
   "cell_type": "code",
   "execution_count": 17,
   "metadata": {
    "colab": {
     "base_uri": "https://localhost:8080/",
     "height": 34
    },
    "colab_type": "code",
    "id": "tlZ7Go0qQDsc",
    "outputId": "897d4a7c-91dc-4cd6-abb0-e98bf5655b67"
   },
   "outputs": [
    {
     "data": {
      "text/plain": [
       "6237"
      ]
     },
     "execution_count": 17,
     "metadata": {},
     "output_type": "execute_result"
    }
   ],
   "source": [
    "lis=[]\n",
    "for i in range(len(y)):\n",
    "    maxi1=0\n",
    "    for j in y[i]:\n",
    "        if j==1:\n",
    "            maxi1+=1\n",
    "    if maxi1==1:\n",
    "        lis.append(i)\n",
    "len(lis)"
   ]
  },
  {
   "cell_type": "code",
   "execution_count": 47,
   "metadata": {
    "colab": {
     "base_uri": "https://localhost:8080/",
     "height": 67
    },
    "colab_type": "code",
    "id": "VouG9ApimIUG",
    "outputId": "b5dfac9c-5f31-4fd3-cbd3-5630aa378521"
   },
   "outputs": [
    {
     "name": "stdout",
     "output_type": "stream",
     "text": [
      "['Heading', 'home.', 'Could', 'really', 'have', 'done', 'without', 'banging', 'my', 'head', 'on', 'the', 'way', 'into', 'the', 'bus']\n",
      "['banging']\n"
     ]
    },
    {
     "data": {
      "text/plain": [
       "'it'"
      ]
     },
     "execution_count": 47,
     "metadata": {},
     "output_type": "execute_result"
    }
   ],
   "source": [
    "print(improve_x[1376])\n",
    "print(improve_x_selected_text[1376])\n",
    "y[1376]\n",
    "x[1]"
   ]
  },
  {
   "cell_type": "code",
   "execution_count": 19,
   "metadata": {
    "colab": {
     "base_uri": "https://localhost:8080/",
     "height": 34
    },
    "colab_type": "code",
    "id": "HOZq7gCxgYzW",
    "outputId": "b12760ba-e915-44fb-e0b6-763f9a8ba076"
   },
   "outputs": [
    {
     "data": {
      "text/plain": [
       "['woof,', 'I', 'wish', 'I', 'was', 'allowed', 'to', 'go']"
      ]
     },
     "execution_count": 19,
     "metadata": {},
     "output_type": "execute_result"
    }
   ],
   "source": [
    "x[63]"
   ]
  },
  {
   "cell_type": "code",
   "execution_count": 20,
   "metadata": {
    "colab": {
     "base_uri": "https://localhost:8080/",
     "height": 34
    },
    "colab_type": "code",
    "id": "A7fforIFgf-J",
    "outputId": "d46b47da-19b8-4894-f4c3-76137f2a71c6"
   },
   "outputs": [
    {
     "data": {
      "text/plain": [
       "['I', 'wish', 'I', 'was', 'allowed', 'to', 'go']"
      ]
     },
     "execution_count": 20,
     "metadata": {},
     "output_type": "execute_result"
    }
   ],
   "source": [
    "x_selected_text[63]"
   ]
  },
  {
   "cell_type": "code",
   "execution_count": 21,
   "metadata": {
    "colab": {
     "base_uri": "https://localhost:8080/",
     "height": 67
    },
    "colab_type": "code",
    "id": "8oDLc8FlQDsj",
    "outputId": "636189a8-badf-45b6-f303-dcbfd0ce4fdc"
   },
   "outputs": [],
   "source": [
    "m = 0\n",
    "for i in range(len(y)):\n",
    "    if(len(y[i])>m):\n",
    "        m=len(y[i])"
   ]
  },
  {
   "cell_type": "code",
   "execution_count": 22,
   "metadata": {
    "colab": {},
    "colab_type": "code",
    "id": "PU6iMzjaQDsm"
   },
   "outputs": [],
   "source": [
    "for i in range(len(y)):\n",
    "    for j in range((33-len(y[i]))):\n",
    "        y[i].append(0)\n",
    "    "
   ]
  },
  {
   "cell_type": "code",
   "execution_count": null,
   "metadata": {},
   "outputs": [],
   "source": []
  },
  {
   "cell_type": "code",
   "execution_count": 24,
   "metadata": {},
   "outputs": [
    {
     "data": {
      "text/plain": [
       "33"
      ]
     },
     "execution_count": 24,
     "metadata": {},
     "output_type": "execute_result"
    }
   ],
   "source": [
    "len(y[0])"
   ]
  },
  {
   "cell_type": "code",
   "execution_count": null,
   "metadata": {},
   "outputs": [],
   "source": []
  },
  {
   "cell_type": "code",
   "execution_count": 30,
   "metadata": {
    "colab": {
     "base_uri": "https://localhost:8080/",
     "height": 34
    },
    "colab_type": "code",
    "id": "Vrty2l0RQDsp",
    "outputId": "1bc7c557-2676-43bd-9a9b-886a1b90f348"
   },
   "outputs": [
    {
     "data": {
      "text/plain": [
       "'Thats it, its the end. Tears for Fears'"
      ]
     },
     "execution_count": 30,
     "metadata": {},
     "output_type": "execute_result"
    }
   ],
   "source": [
    "p = dataset['text'][35].strip()\n",
    "dataset['selected_text'][35]"
   ]
  },
  {
   "cell_type": "code",
   "execution_count": 31,
   "metadata": {
    "colab": {},
    "colab_type": "code",
    "id": "H872Vp4WQDsr"
   },
   "outputs": [],
   "source": [
    "p_text = set()\n",
    "for i in range(len(dataset)):\n",
    "    if(type(dataset['selected_text'][i]) != float and dataset['sentiment'][i]!='neutral'):\n",
    "        #st = dataset['text'][i].strip()\n",
    "        x = dataset['text'][i].split()\n",
    "        for j in range(len(x)):\n",
    "            p_text.add(x[j])"
   ]
  },
  {
   "cell_type": "code",
   "execution_count": 32,
   "metadata": {
    "colab": {
     "base_uri": "https://localhost:8080/",
     "height": 34
    },
    "colab_type": "code",
    "id": "rlhfYJrtQDsu",
    "outputId": "2c7c69cf-12b8-4d52-ce34-77d57e3cf474"
   },
   "outputs": [
    {
     "data": {
      "text/plain": [
       "35719"
      ]
     },
     "execution_count": 32,
     "metadata": {},
     "output_type": "execute_result"
    }
   ],
   "source": [
    "len(p_text)"
   ]
  },
  {
   "cell_type": "code",
   "execution_count": 33,
   "metadata": {
    "colab": {},
    "colab_type": "code",
    "id": "4Qfy1FVPQDsy"
   },
   "outputs": [],
   "source": [
    "p_sel = set()\n",
    "for i in range(len(dataset)):\n",
    "    if(type(dataset['selected_text'][i]) != float and dataset['sentiment'][i]!='neutral'):\n",
    "        #st = dataset['selected_text'][i].strip()\n",
    "        x = dataset['selected_text'][i].split()\n",
    "        for j in range(len(x)):\n",
    "            p_sel.add(x[j])"
   ]
  },
  {
   "cell_type": "code",
   "execution_count": 34,
   "metadata": {
    "colab": {
     "base_uri": "https://localhost:8080/",
     "height": 34
    },
    "colab_type": "code",
    "id": "AHhC7E8eQDs0",
    "outputId": "cf955f8f-7269-46bb-c259-c1fccb5a00cd"
   },
   "outputs": [
    {
     "data": {
      "text/plain": [
       "12162"
      ]
     },
     "execution_count": 34,
     "metadata": {},
     "output_type": "execute_result"
    }
   ],
   "source": [
    "len(p_sel)"
   ]
  },
  {
   "cell_type": "code",
   "execution_count": 35,
   "metadata": {
    "colab": {},
    "colab_type": "code",
    "id": "y2hPieByQDs3"
   },
   "outputs": [],
   "source": [
    "h2 = p_text-p_sel"
   ]
  },
  {
   "cell_type": "code",
   "execution_count": 36,
   "metadata": {
    "colab": {
     "base_uri": "https://localhost:8080/",
     "height": 34
    },
    "colab_type": "code",
    "id": "qvjZtcwAQDs5",
    "outputId": "b9bbfe45-fab7-4cc9-8e01-900652c10a3b"
   },
   "outputs": [
    {
     "data": {
      "text/plain": [
       "24187"
      ]
     },
     "execution_count": 36,
     "metadata": {},
     "output_type": "execute_result"
    }
   ],
   "source": [
    "len(h2)"
   ]
  },
  {
   "cell_type": "code",
   "execution_count": 37,
   "metadata": {
    "colab": {},
    "colab_type": "code",
    "id": "4UiHpTvWQDs8"
   },
   "outputs": [],
   "source": [
    "h1 = p_sel-p_text"
   ]
  },
  {
   "cell_type": "code",
   "execution_count": 38,
   "metadata": {
    "colab": {
     "base_uri": "https://localhost:8080/",
     "height": 34
    },
    "colab_type": "code",
    "id": "kLbCQpzGQDs-",
    "outputId": "7323a8be-16ac-4fd6-e597-2c7aa98457a8"
   },
   "outputs": [
    {
     "data": {
      "text/plain": [
       "630"
      ]
     },
     "execution_count": 38,
     "metadata": {},
     "output_type": "execute_result"
    }
   ],
   "source": [
    "len(h1)"
   ]
  },
  {
   "cell_type": "markdown",
   "metadata": {
    "colab": {
     "base_uri": "https://localhost:8080/",
     "height": 1000
    },
    "colab_type": "code",
    "id": "ItlkLEo5S5ge",
    "outputId": "d04278af-3109-4daa-fefa-b7f7467cb8fd"
   },
   "source": [
    "## embed"
   ]
  },
  {
   "cell_type": "code",
   "execution_count": 41,
   "metadata": {},
   "outputs": [],
   "source": [
    "from tensorflow.python.keras.preprocessing.text import Tokenizer\n",
    "from tensorflow.python.keras.preprocessing.sequence import pad_sequences"
   ]
  },
  {
   "cell_type": "code",
   "execution_count": 68,
   "metadata": {},
   "outputs": [],
   "source": [
    "tokenizer_obj = Tokenizer()\n",
    "max_length = 33\n",
    "tokenizer_obj.fit_on_texts(total_reviews)"
   ]
  },
  {
   "cell_type": "code",
   "execution_count": 70,
   "metadata": {},
   "outputs": [],
   "source": [
    "vocab_size = len(tokenizer_obj.word_index)+1"
   ]
  },
  {
   "cell_type": "code",
   "execution_count": 81,
   "metadata": {},
   "outputs": [],
   "source": [
    "from sklearn.model_selection import train_test_split\n",
    "X_train, X_test, y_train, y_test = train_test_split(total_review, y, test_size=0.2, random_state=42)"
   ]
  },
  {
   "cell_type": "code",
   "execution_count": 82,
   "metadata": {},
   "outputs": [],
   "source": [
    "X_train_tokens = tokenizer_obj.texts_to_sequences(X_train)\n",
    "X_test_tokens = tokenizer_obj.texts_to_sequences(X_test)"
   ]
  },
  {
   "cell_type": "code",
   "execution_count": 84,
   "metadata": {},
   "outputs": [],
   "source": [
    "X_train_pad = pad_sequences(X_train_tokens, maxlen=max_length, padding='post')\n",
    "X_test_pad = pad_sequences(X_test_tokens, maxlen=max_length, padding='post')"
   ]
  },
  {
   "cell_type": "code",
   "execution_count": 100,
   "metadata": {},
   "outputs": [],
   "source": [
    "X_train_pad[0]\n",
    "y_train = np.array(y_train)\n",
    "y_test = np.array(y_test)"
   ]
  },
  {
   "cell_type": "markdown",
   "metadata": {},
   "source": [
    "## Model"
   ]
  },
  {
   "cell_type": "code",
   "execution_count": 88,
   "metadata": {},
   "outputs": [],
   "source": [
    "from keras.models import Sequential\n",
    "from keras.layers import Dense, Embedding, LSTM, GRU\n",
    "from keras.layers.embeddings import Embedding"
   ]
  },
  {
   "cell_type": "code",
   "execution_count": 89,
   "metadata": {},
   "outputs": [],
   "source": [
    "embedding_dim = 100"
   ]
  },
  {
   "cell_type": "code",
   "execution_count": 102,
   "metadata": {},
   "outputs": [],
   "source": [
    "model = Sequential()\n",
    "model.add(Embedding(vocab_size,embedding_dim, input_length=max_length))\n",
    "model.add(GRU(units = 33, dropout = 0.2, recurrent_dropout=0.2))\n",
    "model.add(Dense(33, activation = 'sigmoid'))"
   ]
  },
  {
   "cell_type": "code",
   "execution_count": 103,
   "metadata": {},
   "outputs": [],
   "source": [
    "model.compile(loss = 'binary_crossentropy', optimizer='adam', metrics=['accuracy'])"
   ]
  },
  {
   "cell_type": "code",
   "execution_count": 104,
   "metadata": {},
   "outputs": [
    {
     "name": "stderr",
     "output_type": "stream",
     "text": [
      "E:\\anaconda3\\lib\\site-packages\\tensorflow\\python\\framework\\indexed_slices.py:434: UserWarning: Converting sparse IndexedSlices to a dense Tensor of unknown shape. This may consume a large amount of memory.\n",
      "  \"Converting sparse IndexedSlices to a dense Tensor of unknown shape. \"\n"
     ]
    },
    {
     "name": "stdout",
     "output_type": "stream",
     "text": [
      "Train on 11048 samples, validate on 2763 samples\n",
      "Epoch 1/25\n",
      " - 6s - loss: 0.3700 - accuracy: 0.8794 - val_loss: 0.2484 - val_accuracy: 0.9531\n",
      "Epoch 2/25\n",
      " - 4s - loss: 0.1672 - accuracy: 0.9528 - val_loss: 0.1858 - val_accuracy: 0.9531\n",
      "Epoch 3/25\n",
      " - 4s - loss: 0.1604 - accuracy: 0.9530 - val_loss: 0.1743 - val_accuracy: 0.9531\n",
      "Epoch 4/25\n",
      " - 4s - loss: 0.1576 - accuracy: 0.9532 - val_loss: 0.1728 - val_accuracy: 0.9531\n",
      "Epoch 5/25\n",
      " - 4s - loss: 0.1553 - accuracy: 0.9534 - val_loss: 0.1720 - val_accuracy: 0.9531\n",
      "Epoch 6/25\n",
      " - 4s - loss: 0.1514 - accuracy: 0.9538 - val_loss: 0.1728 - val_accuracy: 0.9531\n",
      "Epoch 7/25\n",
      " - 4s - loss: 0.1469 - accuracy: 0.9544 - val_loss: 0.1748 - val_accuracy: 0.9531\n",
      "Epoch 8/25\n",
      " - 4s - loss: 0.1441 - accuracy: 0.9549 - val_loss: 0.1752 - val_accuracy: 0.9531\n",
      "Epoch 9/25\n",
      " - 4s - loss: 0.1412 - accuracy: 0.9552 - val_loss: 0.1762 - val_accuracy: 0.9531\n",
      "Epoch 10/25\n",
      " - 4s - loss: 0.1388 - accuracy: 0.9556 - val_loss: 0.1753 - val_accuracy: 0.9531\n",
      "Epoch 11/25\n",
      " - 4s - loss: 0.1369 - accuracy: 0.9559 - val_loss: 0.1741 - val_accuracy: 0.9531\n",
      "Epoch 12/25\n",
      " - 4s - loss: 0.1355 - accuracy: 0.9558 - val_loss: 0.1761 - val_accuracy: 0.9531\n",
      "Epoch 13/25\n",
      " - 4s - loss: 0.1335 - accuracy: 0.9562 - val_loss: 0.1768 - val_accuracy: 0.9531\n",
      "Epoch 14/25\n",
      " - 4s - loss: 0.1319 - accuracy: 0.9563 - val_loss: 0.1768 - val_accuracy: 0.9531\n",
      "Epoch 15/25\n",
      " - 4s - loss: 0.1306 - accuracy: 0.9564 - val_loss: 0.1772 - val_accuracy: 0.9531\n",
      "Epoch 16/25\n",
      " - 4s - loss: 0.1290 - accuracy: 0.9565 - val_loss: 0.1779 - val_accuracy: 0.9531\n",
      "Epoch 17/25\n",
      " - 4s - loss: 0.1280 - accuracy: 0.9565 - val_loss: 0.1791 - val_accuracy: 0.9531\n",
      "Epoch 18/25\n",
      " - 4s - loss: 0.1269 - accuracy: 0.9567 - val_loss: 0.1785 - val_accuracy: 0.9531\n",
      "Epoch 19/25\n",
      " - 4s - loss: 0.1258 - accuracy: 0.9567 - val_loss: 0.1789 - val_accuracy: 0.9531\n",
      "Epoch 20/25\n",
      " - 4s - loss: 0.1245 - accuracy: 0.9568 - val_loss: 0.1792 - val_accuracy: 0.9531\n",
      "Epoch 21/25\n",
      " - 4s - loss: 0.1229 - accuracy: 0.9572 - val_loss: 0.1805 - val_accuracy: 0.9531\n",
      "Epoch 22/25\n",
      " - 4s - loss: 0.1221 - accuracy: 0.9570 - val_loss: 0.1805 - val_accuracy: 0.9531\n",
      "Epoch 23/25\n",
      " - 4s - loss: 0.1206 - accuracy: 0.9573 - val_loss: 0.1805 - val_accuracy: 0.9531\n",
      "Epoch 24/25\n",
      " - 4s - loss: 0.1192 - accuracy: 0.9575 - val_loss: 0.1816 - val_accuracy: 0.9531\n",
      "Epoch 25/25\n",
      " - 4s - loss: 0.1177 - accuracy: 0.9578 - val_loss: 0.1818 - val_accuracy: 0.9531\n"
     ]
    },
    {
     "data": {
      "text/plain": [
       "<keras.callbacks.callbacks.History at 0x29a5af1bf08>"
      ]
     },
     "execution_count": 104,
     "metadata": {},
     "output_type": "execute_result"
    }
   ],
   "source": [
    "model.fit(X_train_pad, y_train, batch_size = 128, epochs=10, validation_data=(X_test_pad, y_test), verbose=2)"
   ]
  },
  {
   "cell_type": "code",
   "execution_count": 108,
   "metadata": {},
   "outputs": [],
   "source": [
    "z = model.predict(X_test_pad)"
   ]
  },
  {
   "cell_type": "code",
   "execution_count": 133,
   "metadata": {},
   "outputs": [
    {
     "data": {
      "text/plain": [
       "'at least posada had a good ab'"
      ]
     },
     "execution_count": 133,
     "metadata": {},
     "output_type": "execute_result"
    }
   ],
   "source": [
    "X_test[1]"
   ]
  },
  {
   "cell_type": "code",
   "execution_count": 132,
   "metadata": {},
   "outputs": [
    {
     "data": {
      "text/plain": [
       "array([0.19299135, 0.02409989, 0.02487108, 0.02535003, 0.01771289,\n",
       "       0.02133536, 0.02129653, 0.02825019, 0.05659625, 0.05096143,\n",
       "       0.07786992, 0.10459882, 0.08315918, 0.07468101, 0.09965125,\n",
       "       0.07744187, 0.08303434, 0.06266412, 0.08821398, 0.05266011,\n",
       "       0.05187547, 0.02603656, 0.02290562, 0.02554071, 0.02257031,\n",
       "       0.01585531, 0.00794217, 0.00656947, 0.00344747, 0.00252828,\n",
       "       0.00201648, 0.00092947, 0.00152922], dtype=float32)"
      ]
     },
     "execution_count": 132,
     "metadata": {},
     "output_type": "execute_result"
    }
   ],
   "source": [
    "z[1]"
   ]
  },
  {
   "cell_type": "code",
   "execution_count": 134,
   "metadata": {},
   "outputs": [
    {
     "data": {
      "text/plain": [
       "array([0, 0, 0, 1, 0, 0, 1, 0, 0, 0, 0, 0, 0, 0, 0, 0, 0, 0, 0, 0, 0, 0,\n",
       "       0, 0, 0, 0, 0, 0, 0, 0, 0, 0, 0])"
      ]
     },
     "execution_count": 134,
     "metadata": {},
     "output_type": "execute_result"
    }
   ],
   "source": [
    "y_test[1]"
   ]
  },
  {
   "cell_type": "code",
   "execution_count": null,
   "metadata": {},
   "outputs": [],
   "source": []
  },
  {
   "cell_type": "code",
   "execution_count": null,
   "metadata": {},
   "outputs": [],
   "source": []
  },
  {
   "cell_type": "code",
   "execution_count": null,
   "metadata": {},
   "outputs": [],
   "source": []
  },
  {
   "cell_type": "code",
   "execution_count": 0,
   "metadata": {
    "colab": {
     "base_uri": "https://localhost:8080/",
     "height": 51
    },
    "colab_type": "code",
    "id": "6shthshgQDtC",
    "outputId": "338482aa-e04a-4e98-d934-502239490b50"
   },
   "outputs": [
    {
     "name": "stdout",
     "output_type": "stream",
     "text": [
      "[nltk_data] Downloading package stopwords to /root/nltk_data...\n",
      "[nltk_data]   Unzipping corpora/stopwords.zip.\n"
     ]
    }
   ],
   "source": [
    "import re\n",
    "import nltk\n",
    "nltk.download('stopwords')\n",
    "from nltk.corpus import stopwords\n",
    "from nltk.stem.porter import PorterStemmer"
   ]
  },
  {
   "cell_type": "code",
   "execution_count": 0,
   "metadata": {
    "colab": {},
    "colab_type": "code",
    "id": "ZJLkktgjQDtE"
   },
   "outputs": [],
   "source": [
    "corpus = [] # collection of all cleansed texts\n",
    "\n",
    "for i in range(27480):\n",
    "    #print(\"Before: \")\n",
    "    #print(dataset['text'][i])\n",
    "    if(h[i] == False):\n",
    "        review = re.sub('[^a-zA-Z]', ' ', dataset['text'][i])\n",
    "        review = review.lower()\n",
    "        review = review.split()\n",
    "        ps = PorterStemmer()\n",
    "        review = [ps.stem(word) for word in review if not word in set(stopwords.words('english'))]\n",
    "        review = ' '.join(review)\n",
    "    #print(\"\")\n",
    "    #print(\"After: \")\n",
    "    #print(review)\n",
    "        corpus.append(review)\n",
    "        #print(i)"
   ]
  },
  {
   "cell_type": "code",
   "execution_count": 0,
   "metadata": {
    "colab": {
     "base_uri": "https://localhost:8080/",
     "height": 34
    },
    "colab_type": "code",
    "id": "2VKmKSvZi2kw",
    "outputId": "c5691b9f-4bba-4aa7-bdd8-bbbee0f15f26"
   },
   "outputs": [
    {
     "data": {
      "text/plain": [
       "27479"
      ]
     },
     "execution_count": 42,
     "metadata": {
      "tags": []
     },
     "output_type": "execute_result"
    }
   ],
   "source": [
    "len(corpus)"
   ]
  },
  {
   "cell_type": "code",
   "execution_count": 0,
   "metadata": {
    "colab": {},
    "colab_type": "code",
    "id": "BoZhubn9QDtH"
   },
   "outputs": [],
   "source": [
    "from sklearn.feature_extraction.text import CountVectorizer\n",
    "cv = CountVectorizer(max_features = 200)"
   ]
  },
  {
   "cell_type": "code",
   "execution_count": 0,
   "metadata": {
    "colab": {
     "base_uri": "https://localhost:8080/",
     "height": 138
    },
    "colab_type": "code",
    "id": "X39sZW3HQDtK",
    "outputId": "8963a1a0-780b-4743-ffe9-d2ba5a1a7910"
   },
   "outputs": [
    {
     "name": "stdout",
     "output_type": "stream",
     "text": [
      "The first review is:  respond go\n",
      "Extracted features from X (independent set): \n",
      "['actual', 'alreadi', 'also', 'alway', 'amaz', 'anoth', 'away', 'awesom', 'babi', 'back', 'bad', 'bed', 'best', 'better', 'big', 'birthday', 'bit', 'bore', 'call', 'cant', 'car', 'check', 'com', 'come', 'cool', 'could', 'day', 'done', 'dont', 'earli', 'eat', 'end', 'enjoy', 'even', 'ever', 'everyon', 'excit', 'feel', 'final', 'find', 'finish', 'first', 'follow', 'friday', 'friend', 'fun', 'get', 'girl', 'give', 'glad', 'go', 'gonna', 'good', 'got', 'great', 'guess', 'guy', 'haha', 'happen', 'happi', 'hard', 'hate', 'head', 'hear', 'help', 'hey', 'home', 'hope', 'hot', 'hour', 'hous', 'http', 'hurt', 'im', 'job', 'keep', 'kid', 'know', 'last', 'late', 'later', 'leav', 'left', 'let', 'life', 'like', 'listen', 'littl', 'live', 'lol', 'long', 'look', 'lot', 'love', 'ly', 'made', 'make', 'man', 'may', 'mayb', 'mean', 'miss', 'mom', 'monday', 'morn', 'mother', 'move', 'movi', 'much', 'need', 'never', 'new', 'next', 'nice', 'night', 'noth', 'oh', 'ok', 'old', 'omg', 'one', 'parti', 'peopl', 'phone', 'pic', 'play', 'pleas', 'pretti', 'put', 'rain', 'read', 'readi', 'realli', 'right', 'run', 'sad', 'said', 'saw', 'say', 'school', 'see', 'show', 'sick', 'sleep', 'someon', 'someth', 'song', 'soon', 'sorri', 'sound', 'star', 'start', 'still', 'stop', 'suck', 'sure', 'take', 'talk', 'tell', 'th', 'thank', 'thing', 'think', 'though', 'thought', 'time', 'tire', 'today', 'tomorrow', 'tonight', 'tri', 'tweet', 'twitpic', 'twitter', 'two', 'ugh', 'ur', 'us', 'use', 'wait', 'wanna', 'want', 'watch', 'way', 'week', 'weekend', 'well', 'went', 'wish', 'wonder', 'work', 'world', 'would', 'wow', 'ya', 'yay', 'ye', 'yeah', 'year', 'yet']\n",
      "No of features extracted\n",
      "200\n"
     ]
    },
    {
     "data": {
      "text/plain": [
       "27479"
      ]
     },
     "execution_count": 72,
     "metadata": {
      "tags": []
     },
     "output_type": "execute_result"
    }
   ],
   "source": [
    "#fitting and then transforming corpus into X(independent variable)\n",
    "X = cv.fit_transform(corpus).toarray()\n",
    "X_features = cv.get_feature_names()\n",
    "\n",
    "print(\"The first review is: \", corpus[0])\n",
    "print(\"Extracted features from X (independent set): \")\n",
    "print(X_features)\n",
    "print(\"No of features extracted\")\n",
    "print(len(X_features))\n",
    "len(X)"
   ]
  },
  {
   "cell_type": "code",
   "execution_count": 0,
   "metadata": {
    "colab": {},
    "colab_type": "code",
    "id": "9fZG2s_wQDtO"
   },
   "outputs": [],
   "source": [
    "y = dataset.iloc[0:314, 2].values\n",
    "y2= dataset.iloc[315:27480,2].values\n",
    "#print(y)\n",
    "#y = y.astype()\n",
    "y=np.concatenate((y,y2))\n"
   ]
  },
  {
   "cell_type": "code",
   "execution_count": 0,
   "metadata": {
    "colab": {
     "base_uri": "https://localhost:8080/",
     "height": 34
    },
    "colab_type": "code",
    "id": "iGuy-xtrcwE6",
    "outputId": "012017ef-ed10-485c-cf32-c74847bea5cb"
   },
   "outputs": [
    {
     "data": {
      "text/plain": [
       "'It looks like the office TV DOES get MLB Network... and it looks like MLBN will NOT be televising the DET/BAL game today  #wieters'"
      ]
     },
     "execution_count": 74,
     "metadata": {
      "tags": []
     },
     "output_type": "execute_result"
    }
   ],
   "source": [
    "y[314]"
   ]
  },
  {
   "cell_type": "code",
   "execution_count": 0,
   "metadata": {
    "colab": {},
    "colab_type": "code",
    "id": "DSOyN5Y3QDtQ"
   },
   "outputs": [],
   "source": [
    "from sklearn.model_selection import train_test_split\n",
    "X_train, X_test, y_train, y_test = train_test_split(X, y, test_size = 0.20, random_state = 0)"
   ]
  },
  {
   "cell_type": "code",
   "execution_count": 0,
   "metadata": {
    "colab": {},
    "colab_type": "code",
    "id": "C-eex3HTQDtS"
   },
   "outputs": [],
   "source": [
    "hX_train = cv.inverse_transform(X_train)\n",
    "# features that are selected from the testing data\n",
    "hX_test = cv.inverse_transform(X_test)"
   ]
  },
  {
   "cell_type": "code",
   "execution_count": 0,
   "metadata": {
    "colab": {},
    "colab_type": "code",
    "id": "CcgCl66GQDtV"
   },
   "outputs": [],
   "source": [
    "from sklearn.ensemble import RandomForestClassifier\n",
    "from sklearn.naive_bayes import GaussianNB\n",
    "from sklearn import tree"
   ]
  },
  {
   "cell_type": "code",
   "execution_count": 0,
   "metadata": {
    "colab": {
     "base_uri": "https://localhost:8080/",
     "height": 118
    },
    "colab_type": "code",
    "id": "pUYkfkhAQDtX",
    "outputId": "b02c710a-123b-4bfb-d0e6-31903d44b285"
   },
   "outputs": [
    {
     "data": {
      "text/plain": [
       "DecisionTreeClassifier(ccp_alpha=0.0, class_weight=None, criterion='gini',\n",
       "                       max_depth=None, max_features=None, max_leaf_nodes=None,\n",
       "                       min_impurity_decrease=0.0, min_impurity_split=None,\n",
       "                       min_samples_leaf=1, min_samples_split=2,\n",
       "                       min_weight_fraction_leaf=0.0, presort='deprecated',\n",
       "                       random_state=None, splitter='best')"
      ]
     },
     "execution_count": 78,
     "metadata": {
      "tags": []
     },
     "output_type": "execute_result"
    }
   ],
   "source": [
    "classifier = tree.DecisionTreeClassifier()\n",
    "classifier.fit(X_train, y_train)"
   ]
  },
  {
   "cell_type": "code",
   "execution_count": 0,
   "metadata": {
    "colab": {},
    "colab_type": "code",
    "id": "kVZYQdgVQDtZ"
   },
   "outputs": [],
   "source": [
    "y_pred = classifier.predict(X_test)\n",
    "#print(hX_test)\n",
    "#print(y_test)\n",
    "#print(y_pred)"
   ]
  },
  {
   "cell_type": "code",
   "execution_count": 0,
   "metadata": {
    "colab": {
     "base_uri": "https://localhost:8080/",
     "height": 50
    },
    "colab_type": "code",
    "id": "BYjpE2WaQDtb",
    "outputId": "d25eeabf-f69f-4f45-e43b-33c6b4c34e45"
   },
   "outputs": [
    {
     "name": "stdout",
     "output_type": "stream",
     "text": [
      "Accuracy score:\n",
      "0.024017467248908297\n"
     ]
    }
   ],
   "source": [
    "print(\"Accuracy score:\")\n",
    "print(classifier.score(X_test, y_test))"
   ]
  },
  {
   "cell_type": "code",
   "execution_count": 0,
   "metadata": {
    "colab": {},
    "colab_type": "code",
    "id": "ssQbsi9aQDtd"
   },
   "outputs": [],
   "source": [
    "path='/content/drive/My Drive/sentiment analysis/test.csv'\n",
    "test=pd.read_csv(path)"
   ]
  },
  {
   "cell_type": "code",
   "execution_count": 0,
   "metadata": {
    "colab": {
     "base_uri": "https://localhost:8080/",
     "height": 402
    },
    "colab_type": "code",
    "id": "sltmzF3FMzwL",
    "outputId": "72ee375c-2ca6-4b2a-adad-362c56b389e4"
   },
   "outputs": [
    {
     "data": {
      "text/html": [
       "<div>\n",
       "<style scoped>\n",
       "    .dataframe tbody tr th:only-of-type {\n",
       "        vertical-align: middle;\n",
       "    }\n",
       "\n",
       "    .dataframe tbody tr th {\n",
       "        vertical-align: top;\n",
       "    }\n",
       "\n",
       "    .dataframe thead th {\n",
       "        text-align: right;\n",
       "    }\n",
       "</style>\n",
       "<table border=\"1\" class=\"dataframe\">\n",
       "  <thead>\n",
       "    <tr style=\"text-align: right;\">\n",
       "      <th></th>\n",
       "      <th>textID</th>\n",
       "      <th>text</th>\n",
       "      <th>sentiment</th>\n",
       "    </tr>\n",
       "  </thead>\n",
       "  <tbody>\n",
       "    <tr>\n",
       "      <th>0</th>\n",
       "      <td>f87dea47db</td>\n",
       "      <td>Last session of the day  http://twitpic.com/67ezh</td>\n",
       "      <td>neutral</td>\n",
       "    </tr>\n",
       "    <tr>\n",
       "      <th>1</th>\n",
       "      <td>96d74cb729</td>\n",
       "      <td>Shanghai is also really exciting (precisely -...</td>\n",
       "      <td>positive</td>\n",
       "    </tr>\n",
       "    <tr>\n",
       "      <th>2</th>\n",
       "      <td>eee518ae67</td>\n",
       "      <td>Recession hit Veronique Branquinho, she has to...</td>\n",
       "      <td>negative</td>\n",
       "    </tr>\n",
       "    <tr>\n",
       "      <th>3</th>\n",
       "      <td>01082688c6</td>\n",
       "      <td>happy bday!</td>\n",
       "      <td>positive</td>\n",
       "    </tr>\n",
       "    <tr>\n",
       "      <th>4</th>\n",
       "      <td>33987a8ee5</td>\n",
       "      <td>http://twitpic.com/4w75p - I like it!!</td>\n",
       "      <td>positive</td>\n",
       "    </tr>\n",
       "    <tr>\n",
       "      <th>...</th>\n",
       "      <td>...</td>\n",
       "      <td>...</td>\n",
       "      <td>...</td>\n",
       "    </tr>\n",
       "    <tr>\n",
       "      <th>3529</th>\n",
       "      <td>e5f0e6ef4b</td>\n",
       "      <td>its at 3 am, im very tired but i can`t sleep  ...</td>\n",
       "      <td>negative</td>\n",
       "    </tr>\n",
       "    <tr>\n",
       "      <th>3530</th>\n",
       "      <td>416863ce47</td>\n",
       "      <td>All alone in this old house again.  Thanks for...</td>\n",
       "      <td>positive</td>\n",
       "    </tr>\n",
       "    <tr>\n",
       "      <th>3531</th>\n",
       "      <td>6332da480c</td>\n",
       "      <td>I know what you mean. My little dog is sinkin...</td>\n",
       "      <td>negative</td>\n",
       "    </tr>\n",
       "    <tr>\n",
       "      <th>3532</th>\n",
       "      <td>df1baec676</td>\n",
       "      <td>_sutra what is your next youtube video gonna b...</td>\n",
       "      <td>positive</td>\n",
       "    </tr>\n",
       "    <tr>\n",
       "      <th>3533</th>\n",
       "      <td>469e15c5a8</td>\n",
       "      <td>http://twitpic.com/4woj2 - omgssh  ang cute n...</td>\n",
       "      <td>positive</td>\n",
       "    </tr>\n",
       "  </tbody>\n",
       "</table>\n",
       "<p>3534 rows × 3 columns</p>\n",
       "</div>"
      ],
      "text/plain": [
       "          textID                                               text sentiment\n",
       "0     f87dea47db  Last session of the day  http://twitpic.com/67ezh   neutral\n",
       "1     96d74cb729   Shanghai is also really exciting (precisely -...  positive\n",
       "2     eee518ae67  Recession hit Veronique Branquinho, she has to...  negative\n",
       "3     01082688c6                                        happy bday!  positive\n",
       "4     33987a8ee5             http://twitpic.com/4w75p - I like it!!  positive\n",
       "...          ...                                                ...       ...\n",
       "3529  e5f0e6ef4b  its at 3 am, im very tired but i can`t sleep  ...  negative\n",
       "3530  416863ce47  All alone in this old house again.  Thanks for...  positive\n",
       "3531  6332da480c   I know what you mean. My little dog is sinkin...  negative\n",
       "3532  df1baec676  _sutra what is your next youtube video gonna b...  positive\n",
       "3533  469e15c5a8   http://twitpic.com/4woj2 - omgssh  ang cute n...  positive\n",
       "\n",
       "[3534 rows x 3 columns]"
      ]
     },
     "execution_count": 63,
     "metadata": {
      "tags": []
     },
     "output_type": "execute_result"
    }
   ],
   "source": [
    "test"
   ]
  },
  {
   "cell_type": "code",
   "execution_count": 0,
   "metadata": {
    "colab": {},
    "colab_type": "code",
    "id": "suXILg5oM7YP"
   },
   "outputs": [],
   "source": [
    "n=test['sentiment'].isnull()"
   ]
  },
  {
   "cell_type": "code",
   "execution_count": 0,
   "metadata": {
    "colab": {},
    "colab_type": "code",
    "id": "XZcXoyj_NCsg"
   },
   "outputs": [],
   "source": [
    "for i in range(len(n)):\n",
    "  if n[i]==True:\n",
    "    print(i)"
   ]
  },
  {
   "cell_type": "code",
   "execution_count": 0,
   "metadata": {
    "colab": {},
    "colab_type": "code",
    "id": "C8K9UKelNPWI"
   },
   "outputs": [],
   "source": [
    "x_test=data.iloc"
   ]
  }
 ],
 "metadata": {
  "colab": {
   "collapsed_sections": [],
   "name": "18_days1.ipynb",
   "provenance": []
  },
  "kernelspec": {
   "display_name": "Python 3",
   "language": "python",
   "name": "python3"
  },
  "language_info": {
   "codemirror_mode": {
    "name": "ipython",
    "version": 3
   },
   "file_extension": ".py",
   "mimetype": "text/x-python",
   "name": "python",
   "nbconvert_exporter": "python",
   "pygments_lexer": "ipython3",
   "version": "3.8.5"
  }
 },
 "nbformat": 4,
 "nbformat_minor": 1
}
